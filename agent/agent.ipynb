{
 "cells": [
  {
   "cell_type": "markdown",
   "metadata": {},
   "source": [
    "## Setup"
   ]
  },
  {
   "cell_type": "code",
   "execution_count": 59,
   "metadata": {},
   "outputs": [],
   "source": [
    "import os, getpass\n",
    "from langchain_openai import ChatOpenAI\n",
    "from langchain_ollama import ChatOllama\n",
    "from langchain_groq import ChatGroq\n",
    "from typing import List\n",
    "from typing_extensions import TypedDict\n",
    "from pydantic import BaseModel, Field\n",
    "\n",
    "\n",
    "def _set_env(var: str):\n",
    "    if not os.environ.get(var):\n",
    "        os.environ[var] = getpass.getpass(f\"{var}: \")\n",
    "\n",
    "\n",
    "_set_env(\"OPENAI_API_KEY\")\n",
    "_set_env(\"GROQ_API_KEY\")\n",
    "_set_env(\"TAVILY_API_KEY\")"
   ]
  },
  {
   "cell_type": "code",
   "execution_count": 60,
   "metadata": {},
   "outputs": [],
   "source": [
    "llm = ChatGroq(model=\"llama-3.3-70b-versatile\", temperature=0)\n",
    "# llm = ChatGroq(model=\"deepseek-r1-distill-llama-70b\", temperature=0)\n",
    "# llm = ChatOpenAI(model=\"gpt-4o\", temperature=0.5)"
   ]
  },
  {
   "cell_type": "code",
   "execution_count": 61,
   "metadata": {},
   "outputs": [],
   "source": [
    "_set_env(\"LANGCHAIN_API_KEY\")\n",
    "os.environ[\"LANGCHAIN_TRACING_V2\"] = \"true\"\n",
    "os.environ[\"LANGCHAIN_PROJECT\"] = \"kaggle_agent\""
   ]
  },
  {
   "cell_type": "code",
   "execution_count": 62,
   "metadata": {},
   "outputs": [],
   "source": [
    "import importlib\n",
    "\n",
    "importlib.reload(importlib.import_module(\"prompts.base_prompt\"))\n",
    "from prompts.base_prompt import (\n",
    "    base_prompt,\n",
    "    planner_prompt,\n",
    "    replanner_prompt,\n",
    "    developer_prompt,\n",
    "    summarizer_prompt,\n",
    "    reader_prompt,\n",
    ")"
   ]
  },
  {
   "cell_type": "code",
   "execution_count": 63,
   "metadata": {},
   "outputs": [],
   "source": [
    "importlib.reload(importlib.import_module(\"prompts.phase_prompts\"))\n",
    "from prompts.phase_prompts import eda_prompt\n",
    "\n",
    "phase_prompts = {\n",
    "    \"data exploration and analysis\": eda_prompt,\n",
    "}"
   ]
  },
  {
   "cell_type": "markdown",
   "metadata": {},
   "source": [
    "## 1. Problem understanding graph"
   ]
  },
  {
   "cell_type": "code",
   "execution_count": 64,
   "metadata": {},
   "outputs": [],
   "source": [
    "from IPython.display import Image, display\n",
    "from langgraph.graph import START, END, StateGraph\n",
    "from langgraph.checkpoint.memory import MemorySaver\n",
    "from langchain_core.messages import AIMessage, HumanMessage, SystemMessage"
   ]
  },
  {
   "cell_type": "code",
   "execution_count": 65,
   "metadata": {},
   "outputs": [],
   "source": [
    "class ProblemStatementState(TypedDict):\n",
    "    problem_statement: str  # = Field(description=\"Overview of the problem statement\")\n",
    "    dataset_description: str  # = Field(description=\"Description of the dataset\")\n",
    "\n",
    "    feedback: str  # = Field(None, description=\"Feedback from the human on the summary\")\n",
    "    summary: str  # = Field(None, description=\"Summary of the problem statement\")\n",
    "\n",
    "\n",
    "class Summary(BaseModel):\n",
    "    summary: str = Field(description=\"Summary of the problem statement\")"
   ]
  },
  {
   "cell_type": "code",
   "execution_count": 66,
   "metadata": {},
   "outputs": [],
   "source": [
    "def create_summary(state: ProblemStatementState):\n",
    "    print(\"Creating summary\")\n",
    "    problem_statement = state[\"problem_statement\"]\n",
    "    dataset_description = state[\"dataset_description\"]\n",
    "\n",
    "    feedback = state.get(\"feedback\", \"\")\n",
    "    prompt = reader_prompt.format(\n",
    "        problem_statement=problem_statement,\n",
    "        dataset_description=dataset_description,\n",
    "        feedback=feedback,\n",
    "    )\n",
    "\n",
    "    summary = llm.with_structured_output(Summary).invoke(\n",
    "        [SystemMessage(content=prompt)]\n",
    "        + [HumanMessage(content=\"Generate the summary.\")]\n",
    "    )\n",
    "\n",
    "    return {\"summary\": summary.summary}\n",
    "\n",
    "\n",
    "def human_feedback(state: ProblemStatementState):\n",
    "    \"\"\"No-op node that should be interrupted on\"\"\"\n",
    "    pass\n",
    "\n",
    "\n",
    "def should_continue(state: ProblemStatementState):\n",
    "    \"\"\"Return the next node to execute\"\"\"\n",
    "\n",
    "    # Check if human feedback\n",
    "    human_analyst_feedback = state.get(\"human_feedback\", None)\n",
    "    if human_analyst_feedback:\n",
    "        return \"create_summary\"\n",
    "\n",
    "    # Otherwise end\n",
    "    return END"
   ]
  },
  {
   "cell_type": "code",
   "execution_count": 67,
   "metadata": {},
   "outputs": [
    {
     "data": {
      "image/png": "[encoded data removed]",
      "text/plain": [
       "<IPython.core.display.Image object>"
      ]
     },
     "metadata": {},
     "output_type": "display_data"
    }
   ],
   "source": [
    "# Add nodes and edges\n",
    "builder = StateGraph(ProblemStatementState)\n",
    "builder.add_node(\"create_summary\", create_summary)\n",
    "builder.add_node(\"human_feedback\", human_feedback)\n",
    "builder.add_edge(START, \"create_summary\")\n",
    "builder.add_edge(\"create_summary\", \"human_feedback\")\n",
    "builder.add_conditional_edges(\n",
    "    \"human_feedback\", should_continue, [\"create_summary\", END]\n",
    ")\n",
    "\n",
    "# Compile\n",
    "memory = MemorySaver()\n",
    "graph = builder.compile(interrupt_before=[\"human_feedback\"], checkpointer=memory)\n",
    "\n",
    "# View\n",
    "display(Image(graph.get_graph(xray=1).draw_mermaid_png()))"
   ]
  },
  {
   "cell_type": "code",
   "execution_count": 68,
   "metadata": {},
   "outputs": [],
   "source": [
    "# read the problem statement (file: problem_statement.md)\n",
    "problem_statement = open(\"resources/overview.md\").read()\n",
    "\n",
    "# read the dataset description (file: dataset_description.md)\n",
    "dataset_description = open(\"resources/dataset.md\").read()"
   ]
  },
  {
   "cell_type": "code",
   "execution_count": 69,
   "metadata": {},
   "outputs": [
    {
     "name": "stdout",
     "output_type": "stream",
     "text": [
      "Creating summary\n"
     ]
    },
    {
     "data": {
      "text/markdown": [
       "The problem statement involves predicting a Starcraft player based on their behavioral traces. The necessary files are train.csv and test.csv, which contain labeled and unlabeled behavioral traces, respectively. The data format consists of comma-separated values, including a unique player ID, the player's race, and various actions such as selections and hotkeys, all timestamped with time windows in seconds. The prediction target is to identify the player, and the submission format requires a RowId and the corresponding prediction. The evaluation metric is the Mean F1-Score, which balances precision and recall. Key acronyms include F1, tp, fp, fn, and ID."
      ]
     },
     "metadata": {},
     "output_type": "display_data"
    }
   ],
   "source": [
    "from IPython.display import Markdown, display_markdown\n",
    "\n",
    "# Run the graph until the first interruption\n",
    "thread = {\"configurable\": {\"thread_id\": \"1\"}}\n",
    "\n",
    "def run():\n",
    "    for event in graph.stream(\n",
    "        {\n",
    "            \"problem_statement\": problem_statement,\n",
    "            \"dataset_description\": dataset_description,\n",
    "        },\n",
    "        thread,\n",
    "        stream_mode=\"values\",\n",
    "    ):\n",
    "        summary_str = event.get(\"summary\", None)\n",
    "        if summary_str:\n",
    "            display_markdown(Markdown(summary_str))\n",
    "    \n",
    "run()"
   ]
  },
  {
   "cell_type": "code",
   "execution_count": 70,
   "metadata": {},
   "outputs": [
    {
     "data": {
      "text/plain": [
       "\"The problem statement involves predicting a Starcraft player based on their behavioral traces. The necessary files are train.csv and test.csv, which contain labeled and unlabeled behavioral traces, respectively. The data format consists of comma-separated values, including a unique player ID, the player's race, and various actions such as selections and hotkeys, all timestamped with time windows in seconds. The prediction target is to identify the player, and the submission format requires a RowId and the corresponding prediction. The evaluation metric is the Mean F1-Score, which balances precision and recall. Key acronyms include F1, tp, fp, fn, and ID.\""
      ]
     },
     "execution_count": 70,
     "metadata": {},
     "output_type": "execute_result"
    }
   ],
   "source": [
    "summary_str = graph.get_state(thread).values[\"summary\"]\n",
    "summary_str"
   ]
  },
  {
   "cell_type": "code",
   "execution_count": 71,
   "metadata": {},
   "outputs": [],
   "source": [
    "# Get state and look at next node\n",
    "# state = graph.get_state(thread)\n",
    "# state.next"
   ]
  },
  {
   "cell_type": "code",
   "execution_count": 72,
   "metadata": {},
   "outputs": [],
   "source": [
    "\n",
    "# We now update the state as if we are the human_feedback node\n",
    "# graph.update_state(\n",
    "#     thread,\n",
    "#     {\n",
    "#         \"feedback\": \"Explain in more detail the what the columns of the training data represent. Also add clearly the path of the files needed\"\n",
    "#     },\n",
    "#     as_node=\"human_feedback\",\n",
    "# )"
   ]
  },
  {
   "cell_type": "code",
   "execution_count": 73,
   "metadata": {},
   "outputs": [],
   "source": [
    "# run()"
   ]
  },
  {
   "cell_type": "code",
   "execution_count": 74,
   "metadata": {},
   "outputs": [],
   "source": [
    "# We now update the state as if we are the human_feedback node\n",
    "# graph.update_state(thread, {\"feedback\": None}, as_node=\"human_feedback\")"
   ]
  },
  {
   "cell_type": "code",
   "execution_count": 75,
   "metadata": {},
   "outputs": [],
   "source": [
    "# final_state = graph.get_state(thread)\n",
    "# final_state.next"
   ]
  },
  {
   "cell_type": "markdown",
   "metadata": {},
   "source": [
    "## 2.0 Thinker/Coder graph"
   ]
  },
  {
   "cell_type": "code",
   "execution_count": 76,
   "metadata": {},
   "outputs": [],
   "source": [
    "class Code(BaseModel):\n",
    "    prefix: str = Field(description=\"Description of the problem and approach\")\n",
    "    imports: str = Field(description=\"Code block import statements\")\n",
    "    code: str = Field(description=\"Code block not including import statements\")\n",
    "\n",
    "\n",
    "code_gen_llm = llm.with_structured_output(Code)"
   ]
  },
  {
   "cell_type": "code",
   "execution_count": 77,
   "metadata": {},
   "outputs": [],
   "source": [
    "from typing import List\n",
    "from typing_extensions import TypedDict\n",
    "\n",
    "\n",
    "class DeveloperState(TypedDict):\n",
    "    \"\"\"\n",
    "    Represents the state of our graph.\n",
    "\n",
    "    Attributes:\n",
    "        error : Binary flag for control flow to indicate whether test error was tripped\n",
    "        messages : With user question, error messages, reasoning\n",
    "        generation : Code solution\n",
    "        code_output : Code output\n",
    "        iterations : Number of tries\n",
    "    \"\"\"\n",
    "\n",
    "    error: str\n",
    "    messages: List\n",
    "    generation: str\n",
    "    code_output: str\n",
    "    iterations: int"
   ]
  },
  {
   "cell_type": "code",
   "execution_count": 78,
   "metadata": {},
   "outputs": [],
   "source": [
    "import io\n",
    "from contextlib import redirect_stdout\n",
    "\n",
    "# Max tries\n",
    "max_iterations = 3\n",
    "\n",
    "# Reflect\n",
    "flag = \"reflect\"\n",
    "\n",
    "\n",
    "### Nodes\n",
    "def generate(state: DeveloperState):\n",
    "    print(\"---GENERATING CODE SOLUTION---\")\n",
    "\n",
    "    # State\n",
    "    messages = state[\"messages\"]\n",
    "    iterations = state[\"iterations\"]\n",
    "    error = state[\"error\"]\n",
    "\n",
    "    # We have been routed back to generation with an error\n",
    "    if error == \"yes\":\n",
    "        messages += [\n",
    "            (\n",
    "                \"user\",\n",
    "                \"Now, try again. Structure the output with a prefix, imports, and code block:\",\n",
    "            )\n",
    "        ]\n",
    "\n",
    "    # Solution\n",
    "    code_solution = code_gen_llm.invoke(messages)\n",
    "    messages += [\n",
    "        (\n",
    "            \"assistant\",\n",
    "            f\"{code_solution.prefix} \\n Imports: {code_solution.imports} \\n Code: {code_solution.code}\",\n",
    "        )\n",
    "    ]\n",
    "\n",
    "    # Increment\n",
    "    iterations = iterations + 1\n",
    "    return {\"generation\": code_solution, \"messages\": messages, \"iterations\": iterations}\n",
    "\n",
    "\n",
    "def code_check(state: DeveloperState):\n",
    "    print(\"---CHECKING CODE---\")\n",
    "\n",
    "    # State\n",
    "    messages = state[\"messages\"]\n",
    "    code_solution = state[\"generation\"]\n",
    "    iterations = state[\"iterations\"]\n",
    "\n",
    "    # Get solution components\n",
    "    imports = code_solution.imports\n",
    "    code = code_solution.code\n",
    "\n",
    "    # Check imports\n",
    "    try:\n",
    "        exec(imports)\n",
    "    except Exception as e:\n",
    "        print(\"---CODE IMPORT CHECK: FAILED---\")\n",
    "        error_message = [(\"user\", f\"Your solution failed the import test: {e}\")]\n",
    "        messages += error_message\n",
    "        return {\n",
    "            \"generation\": code_solution,\n",
    "            \"messages\": messages,\n",
    "            \"iterations\": iterations,\n",
    "            \"error\": \"yes\",\n",
    "        }\n",
    "\n",
    "    # Check execution\n",
    "    f = io.StringIO()\n",
    "    try:\n",
    "        with redirect_stdout(f):\n",
    "            exec(imports + \"\\n\" + code)\n",
    "    except Exception as e:\n",
    "        print(\"---CODE BLOCK CHECK: FAILED---\")\n",
    "        error_message = [(\"user\", f\"Your solution failed the code execution test: {e}\")]\n",
    "        messages += error_message\n",
    "        return {\n",
    "            \"generation\": code_solution,\n",
    "            \"messages\": messages,\n",
    "            \"iterations\": iterations,\n",
    "            \"error\": \"yes\",\n",
    "        }\n",
    "    output = f.getvalue()\n",
    "    messages += output\n",
    "    print(\"---CODE EXECUTION OUTPUT:---\")\n",
    "    print(output)\n",
    "\n",
    "    # No errors\n",
    "    print(\"---NO CODE TEST FAILURES---\")\n",
    "    return {\n",
    "        \"generation\": code_solution,\n",
    "        \"code_output\": output,\n",
    "        \"messages\": messages,\n",
    "        \"iterations\": iterations,\n",
    "        \"error\": \"no\",\n",
    "    }\n",
    "\n",
    "\n",
    "def reflect(state: DeveloperState):\n",
    "    print(\"---GENERATING CODE SOLUTION---\")\n",
    "\n",
    "    # State\n",
    "    messages = state[\"messages\"]\n",
    "    iterations = state[\"iterations\"]\n",
    "    code_solution = state[\"generation\"]\n",
    "    code_output = state.get(\"code_output\", \"\")\n",
    "\n",
    "    # Reflection\n",
    "    reflections = code_gen_llm.invoke(messages)\n",
    "    messages += [(\"assistant\", f\"Here are reflections on the error: {reflections}\")]\n",
    "    return {\n",
    "        \"generation\": code_solution,\n",
    "        \"code_output\": code_output,\n",
    "        \"messages\": messages,\n",
    "        \"iterations\": iterations,\n",
    "    }\n",
    "\n",
    "\n",
    "### Edges\n",
    "def decide_to_finish(state: DeveloperState):\n",
    "    error = state[\"error\"]\n",
    "    iterations = state[\"iterations\"]\n",
    "\n",
    "    if error == \"no\" or iterations == max_iterations:\n",
    "        print(\"---DECISION: FINISH---\")\n",
    "        return \"end\"\n",
    "    else:\n",
    "        print(\"---DECISION: RE-TRY SOLUTION---\")\n",
    "        return \"reflect\""
   ]
  },
  {
   "cell_type": "code",
   "execution_count": 79,
   "metadata": {},
   "outputs": [
    {
     "data": {
      "image/png": "[encoded data removed]",
      "text/plain": [
       "<IPython.core.display.Image object>"
      ]
     },
     "metadata": {},
     "output_type": "display_data"
    }
   ],
   "source": [
    "from langgraph.graph import END, StateGraph, START\n",
    "\n",
    "workflow = StateGraph(DeveloperState)\n",
    "\n",
    "# Define the nodes\n",
    "workflow.add_node(\"generate\", generate)  # generation solution\n",
    "workflow.add_node(\"check_code\", code_check)  # check code\n",
    "workflow.add_node(\"reflect\", reflect)  # reflect\n",
    "\n",
    "# Build graph\n",
    "workflow.add_edge(START, \"generate\")\n",
    "workflow.add_edge(\"generate\", \"check_code\")\n",
    "workflow.add_conditional_edges(\n",
    "    \"check_code\",\n",
    "    decide_to_finish,\n",
    "    {\n",
    "        \"end\": END,\n",
    "        \"reflect\": \"reflect\",\n",
    "        \"generate\": \"generate\",\n",
    "    },\n",
    ")\n",
    "workflow.add_edge(\"reflect\", \"generate\")\n",
    "developer = workflow.compile()\n",
    "\n",
    "display(Image(developer.get_graph(xray=True).draw_mermaid_png()))"
   ]
  },
  {
   "cell_type": "code",
   "execution_count": 80,
   "metadata": {},
   "outputs": [],
   "source": [
    "# Test\n",
    "# question = \"Load the CSV file named sample.csv in pandas and compute the correlations between columns 'Age' and 'Wealth'\"\n",
    "# solution = developper.invoke({\"messages\": [(\"user\", question)], \"iterations\": 0, \"error\": \"\"})"
   ]
  },
  {
   "cell_type": "markdown",
   "metadata": {},
   "source": [
    "## 2.1 Replan graph"
   ]
  },
  {
   "cell_type": "code",
   "execution_count": 81,
   "metadata": {},
   "outputs": [],
   "source": [
    "from typing import Tuple, Annotated, Union\n",
    "import operator\n",
    "from langchain_community.tools.tavily_search import TavilySearchResults\n",
    "from langgraph.prebuilt import create_react_agent"
   ]
  },
  {
   "cell_type": "code",
   "execution_count": 82,
   "metadata": {},
   "outputs": [],
   "source": [
    "class PlanExecute(TypedDict):\n",
    "    context: str\n",
    "    phase: str\n",
    "    plan: List[str]\n",
    "    past_steps: Annotated[List[Tuple], operator.add]\n",
    "    summary: str\n",
    "\n",
    "\n",
    "class Plan(BaseModel):\n",
    "    \"\"\"Plan to follow in future\"\"\"\n",
    "\n",
    "    steps: List[str] = Field(\n",
    "        description=\"different steps to follow, should be in sorted order\"\n",
    "    )\n",
    "\n",
    "\n",
    "planner = llm.with_structured_output(Plan)"
   ]
  },
  {
   "cell_type": "code",
   "execution_count": 83,
   "metadata": {},
   "outputs": [],
   "source": [
    "class Response(BaseModel):\n",
    "    \"\"\"Summary to user.\"\"\"\n",
    "\n",
    "    response: str\n",
    "\n",
    "\n",
    "class Act(BaseModel):\n",
    "    \"\"\"Action to perform.\"\"\"\n",
    "\n",
    "    action: Union[Summary, Plan] = Field(\n",
    "        description=\"Action to perform. If you want to stop, use Response. \"\n",
    "        \"If you need to further use tools to get the answer, use Plan.\"\n",
    "    )\n",
    "\n",
    "\n",
    "replanner = llm.with_structured_output(Act)"
   ]
  },
  {
   "cell_type": "code",
   "execution_count": 84,
   "metadata": {},
   "outputs": [],
   "source": [
    "class Summary(BaseModel):\n",
    "    summary: str = Field(description=\"Summary of the problem statement\")\n",
    "\n",
    "\n",
    "summarizer = llm.with_structured_output(Summary)"
   ]
  },
  {
   "cell_type": "code",
   "execution_count": 85,
   "metadata": {},
   "outputs": [],
   "source": [
    "def execute_step(state: PlanExecute):\n",
    "    plan = state[\"plan\"]\n",
    "    plan_str = \"\\n\".join(f\"{i+1}. {step}\" for i, step in enumerate(plan))\n",
    "    task = plan[0]\n",
    "\n",
    "    task_formatted = developer_prompt.format(\n",
    "        context=state[\"context\"],\n",
    "        phase=state[\"phase\"],\n",
    "        summary=state[\"summary\"],\n",
    "        plan=plan_str,\n",
    "        step=task,\n",
    "    )\n",
    "\n",
    "    agent_response = developer.invoke(\n",
    "        {\"iterations\": 0, \"error\": \"\", \"messages\": [(\"user\", task_formatted)]}\n",
    "    )\n",
    "\n",
    "    summary_prompt = f\"\"\"\n",
    "    ## Task ##\n",
    "    {task}\n",
    "    \n",
    "    ## Python code ##\n",
    "    {agent_response[\"generation\"]}\n",
    "    \n",
    "    ## Code output ##\n",
    "    {agent_response[\"code_output\"]}\n",
    "    \n",
    "    ## Your task ##\n",
    "    Above are:\n",
    "    - a task related to a data science problem\n",
    "    - the python code for that task\n",
    "    - the output of the code\n",
    "    \n",
    "    Please summarize the code output.\n",
    "    \"\"\"\n",
    "    task_output_summary = (\n",
    "        llm.with_structured_output(Summary)\n",
    "        .invoke([SystemMessage(content=summary_prompt)])\n",
    "        .summary\n",
    "    )\n",
    "\n",
    "    task_output = f\"\"\"Python code:    \n",
    "    {agent_response[\"generation\"]}\n",
    "    \n",
    "    Output summary:\n",
    "    {task_output_summary}\n",
    "    \"\"\"\n",
    "    return {\n",
    "        \"past_steps\": state[\"past_steps\"] + [(task, task_output)],\n",
    "    }\n",
    "\n",
    "\n",
    "def plan_step(state: PlanExecute):\n",
    "    prompt = planner_prompt.format(\n",
    "        context=state[\"context\"],\n",
    "        phase=state[\"phase\"],\n",
    "        summary=state[\"summary\"],\n",
    "        information=phase_prompts[state[\"phase\"]],\n",
    "    )\n",
    "    plan = planner.invoke([SystemMessage(content=prompt)])\n",
    "    return {\"plan\": plan.steps}\n",
    "\n",
    "\n",
    "def replan_step(state: PlanExecute):\n",
    "    prompt = replanner_prompt.format(\n",
    "        context=state[\"context\"],\n",
    "        phase=state[\"phase\"],\n",
    "        summary=state[\"summary\"],\n",
    "        information=phase_prompts[state[\"phase\"]],\n",
    "        plan=state[\"plan\"],\n",
    "        past_steps=state[\"past_steps\"],\n",
    "    )\n",
    "    output = replanner.invoke([SystemMessage(content=prompt)])\n",
    "    if isinstance(output.action, Response):\n",
    "        return {\"response\": output.action.response}\n",
    "    else:\n",
    "        return {\"plan\": output.action.steps}\n",
    "\n",
    "\n",
    "def summarize_step(state: PlanExecute):\n",
    "    steps = state[\"past_steps\"]\n",
    "    steps_str = \"\\n\".join(f\"{i+1}. {step}\" for i, (step, _) in enumerate(steps))\n",
    "\n",
    "    formatted_prompt = summarizer_prompt.format(\n",
    "        context=state[\"context\"],\n",
    "        phase=state[\"phase\"],\n",
    "        summary=state[\"summary\"],\n",
    "        steps_str=steps_str,\n",
    "    )\n",
    "\n",
    "    return {\"summary\": llm.invoke([SystemMessage(content=formatted_prompt)])}\n",
    "\n",
    "\n",
    "def should_end(state: PlanExecute):\n",
    "    if \"response\" in state and state[\"response\"]:\n",
    "        return \"summarizer\"\n",
    "    else:\n",
    "        return \"developer\""
   ]
  },
  {
   "cell_type": "code",
   "execution_count": 86,
   "metadata": {},
   "outputs": [
    {
     "data": {
      "image/png": "[encoded data removed]",
      "text/plain": [
       "<IPython.core.display.Image object>"
      ]
     },
     "metadata": {},
     "output_type": "display_data"
    }
   ],
   "source": [
    "workflow = StateGraph(PlanExecute)\n",
    "\n",
    "# Add the plan node\n",
    "workflow.add_node(\"planner\", plan_step)\n",
    "\n",
    "# Add the execution step\n",
    "workflow.add_node(\"developer\", execute_step)\n",
    "\n",
    "# Add a replan node\n",
    "workflow.add_node(\"replan\", replan_step)\n",
    "\n",
    "# Add a summary node\n",
    "workflow.add_node(\"summarizer\", summarize_step)\n",
    "\n",
    "workflow.add_edge(START, \"planner\")\n",
    "\n",
    "# From plan we go to developer\n",
    "workflow.add_edge(\"planner\", \"developer\")\n",
    "\n",
    "# From developer, we replan\n",
    "workflow.add_edge(\"developer\", \"replan\")\n",
    "\n",
    "workflow.add_conditional_edges(\n",
    "    \"replan\",\n",
    "    # Next, we pass in the function that will determine which node is called next.\n",
    "    should_end,\n",
    "    [\"developer\", \"summarizer\"],\n",
    ")\n",
    "\n",
    "workflow.add_edge(\"summarizer\", END)\n",
    "\n",
    "# Finally, we compile it!\n",
    "# This compiles it into a LangChain Runnable,\n",
    "# meaning you can use it as you would any other runnable\n",
    "app = workflow.compile()\n",
    "\n",
    "display(Image(app.get_graph(xray=True).draw_mermaid_png()))"
   ]
  },
  {
   "cell_type": "markdown",
   "metadata": {},
   "source": [
    "## 3. Data Exploration"
   ]
  },
  {
   "cell_type": "code",
   "execution_count": null,
   "metadata": {},
   "outputs": [],
   "source": [
    "config = {\"recursion_limit\": 100}\n",
    "\n",
    "input = PlanExecute(\n",
    "    context=summary_str,\n",
    "    phase=\"data exploration and analysis\",\n",
    "    summary=\"\",\n",
    ")\n",
    "\n",
    "for event in app.stream(input, config=config):\n",
    "    print(event)"
   ]
  },
  {
   "cell_type": "markdown",
   "metadata": {},
   "source": [
    "## 4. Feature Engineering"
   ]
  },
  {
   "cell_type": "markdown",
   "metadata": {},
   "source": [
    "## 5. Model Building"
   ]
  },
  {
   "cell_type": "markdown",
   "metadata": {},
   "source": [
    "## 6. Model Evaluation "
   ]
  },
  {
   "cell_type": "markdown",
   "metadata": {},
   "source": [
    "## 7. Submission "
   ]
  }
 ],
 "metadata": {
  "kernelspec": {
   "display_name": "llm",
   "language": "python",
   "name": "python3"
  },
  "language_info": {
   "codemirror_mode": {
    "name": "ipython",
    "version": 3
   },
   "file_extension": ".py",
   "mimetype": "text/x-python",
   "name": "python",
   "nbconvert_exporter": "python",
   "pygments_lexer": "ipython3",
   "version": "3.12.8"
  }
 },
 "nbformat": 4,
 "nbformat_minor": 2
}
