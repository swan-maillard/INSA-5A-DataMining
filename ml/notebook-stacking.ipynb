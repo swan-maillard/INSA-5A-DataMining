{
 "cells": [
  {
   "cell_type": "code",
   "execution_count": 2,
   "metadata": {
    "_cell_guid": "b1076dfc-b9ad-4769-8c92-a6c4dae69d19",
    "_uuid": "8f2839f25d086af736a60e9eeb907d3b93b6e0e5",
    "execution": {
     "iopub.execute_input": "2025-01-03T16:55:03.498148Z",
     "iopub.status.busy": "2025-01-03T16:55:03.497721Z",
     "iopub.status.idle": "2025-01-03T16:55:03.502661Z",
     "shell.execute_reply": "2025-01-03T16:55:03.501571Z",
     "shell.execute_reply.started": "2025-01-03T16:55:03.498078Z"
    },
    "trusted": true
   },
   "outputs": [],
   "source": [
    "import pandas as pd\n",
    "from typing import Optional\n",
    "from pathlib import Path\n",
    "import gzip\n",
    "import matplotlib.pyplot as plt"
   ]
  },
  {
   "cell_type": "markdown",
   "metadata": {},
   "source": [
    "# 1. Read datasets\n",
    "Use the gzip function is files ar gzipped"
   ]
  },
  {
   "cell_type": "code",
   "execution_count": 3,
   "metadata": {
    "execution": {
     "iopub.execute_input": "2025-01-03T16:55:03.504167Z",
     "iopub.status.busy": "2025-01-03T16:55:03.503845Z",
     "iopub.status.idle": "2025-01-03T16:55:03.523023Z",
     "shell.execute_reply": "2025-01-03T16:55:03.521924Z",
     "shell.execute_reply.started": "2025-01-03T16:55:03.504128Z"
    },
    "trusted": true
   },
   "outputs": [],
   "source": [
    "def read_ds_gzip(path: Optional[Path]=None, ds: str = \"TRAIN\") -> pd.DataFrame:\n",
    "    \"\"\"Args:\n",
    "        path (Optional[Path], optional): the path to read the dataset file. Defaults to /kaggle/input/the-insa-starcraft-2-player-prediction-challenge/{ds}.CSV.gz.\n",
    "        ds (str, optional): the part to read (TRAIN or TEST), to use when path is None. Defaults to \"TRAIN\".\n",
    "\n",
    "    Returns:\n",
    "        pd.DataFrame:\n",
    "    \"\"\"\n",
    "    with gzip.open(f'/kaggle/input/the-insa-starcraft-2-player-prediction-challenge/{ds}.CSV.gz' if path is None else path) as f:\n",
    "        max_actions = max(( len( str(c).split(\",\")) for c in f.readlines() ))\n",
    "        f.seek(0)\n",
    "        _names = [\"battleneturl\", \"played_race\"] if \"TRAIN\" in ds else [\"played_race\"]\n",
    "        _names.extend(range(max_actions - len(_names)))\n",
    "        return pd.read_csv(f, names=_names, dtype= str)\n",
    "\n",
    "def read_ds(path: Optional[Path]=None, ds: str = \"TRAIN\"):\n",
    "    \"\"\"Args:\n",
    "        path (Optional[Path], optional): the path to read the dataset file. Defaults to /kaggle/input/the-insa-starcraft-2-player-prediction-challenge/{ds}.CSV.gz.\n",
    "        ds (str, optional): the part to read (TRAIN or TEST), to use when path is None. Defaults to \"TRAIN\".\n",
    "\n",
    "    Returns:\n",
    "        pd.DataFrame:\n",
    "    \"\"\"\n",
    "    with open(f'/kaggle/input/train-sc2-keystrokes/{ds}.CSV' if path is None else path) as f:\n",
    "        max_actions = max(( len( str(c).split(\",\")) for c in f.readlines() ))\n",
    "        f.seek(0)\n",
    "        _names = [\"battleneturl\", \"played_race\"] if \"TRAIN\" in ds else [\"played_race\"]\n",
    "        _names.extend(range(max_actions - len(_names)))\n",
    "        return pd.read_csv(f, names=_names, dtype= str)"
   ]
  },
  {
   "cell_type": "code",
   "execution_count": 4,
   "metadata": {},
   "outputs": [],
   "source": [
    "def url_to_code(df: pd.DataFrame, col: str=\"battleneturl\") -> None:\n",
    "    \"\"\"Convert url col of df to a categorical column and return the code to url dict\"\"\"\n",
    "    df[\"battleneturl\"] = pd.Categorical(df[\"battleneturl\"])\n",
    "    df[\"battlenetcode\"] = df[[col]].apply(lambda x: x.cat.codes)\n",
    "    code_to_url = dict(zip(df[\"battlenetcode\"], df[\"battleneturl\"]))\n",
    "    df[\"battleneturl\"] = df[\"battlenetcode\"]\n",
    "    df.drop(columns=[\"battlenetcode\"], inplace=True)\n",
    "    return code_to_url\n",
    "    "
   ]
  },
  {
   "cell_type": "code",
   "execution_count": 5,
   "metadata": {
    "execution": {
     "iopub.execute_input": "2025-01-03T16:55:03.525005Z",
     "iopub.status.busy": "2025-01-03T16:55:03.524636Z",
     "iopub.status.idle": "2025-01-03T16:55:12.650412Z",
     "shell.execute_reply": "2025-01-03T16:55:12.649188Z",
     "shell.execute_reply.started": "2025-01-03T16:55:03.524971Z"
    },
    "trusted": true
   },
   "outputs": [],
   "source": [
    "train_ds = read_ds(Path(\"../data/TRAIN.CSV\"))\n",
    "url_dict = url_to_code(train_ds)"
   ]
  },
  {
   "cell_type": "code",
   "execution_count": 6,
   "metadata": {},
   "outputs": [
    {
     "data": {
      "text/html": [
       "<div>\n",
       "<style scoped>\n",
       "    .dataframe tbody tr th:only-of-type {\n",
       "        vertical-align: middle;\n",
       "    }\n",
       "\n",
       "    .dataframe tbody tr th {\n",
       "        vertical-align: top;\n",
       "    }\n",
       "\n",
       "    .dataframe thead th {\n",
       "        text-align: right;\n",
       "    }\n",
       "</style>\n",
       "<table border=\"1\" class=\"dataframe\">\n",
       "  <thead>\n",
       "    <tr style=\"text-align: right;\">\n",
       "      <th></th>\n",
       "      <th>battleneturl</th>\n",
       "      <th>played_race</th>\n",
       "      <th>0</th>\n",
       "      <th>1</th>\n",
       "      <th>2</th>\n",
       "      <th>3</th>\n",
       "      <th>4</th>\n",
       "      <th>5</th>\n",
       "      <th>6</th>\n",
       "      <th>7</th>\n",
       "      <th>...</th>\n",
       "      <th>10527</th>\n",
       "      <th>10528</th>\n",
       "      <th>10529</th>\n",
       "      <th>10530</th>\n",
       "      <th>10531</th>\n",
       "      <th>10532</th>\n",
       "      <th>10533</th>\n",
       "      <th>10534</th>\n",
       "      <th>10535</th>\n",
       "      <th>10536</th>\n",
       "    </tr>\n",
       "  </thead>\n",
       "  <tbody>\n",
       "    <tr>\n",
       "      <th>0</th>\n",
       "      <td>53</td>\n",
       "      <td>Protoss</td>\n",
       "      <td>Base</td>\n",
       "      <td>s</td>\n",
       "      <td>s</td>\n",
       "      <td>s</td>\n",
       "      <td>s</td>\n",
       "      <td>s</td>\n",
       "      <td>t5</td>\n",
       "      <td>Base</td>\n",
       "      <td>...</td>\n",
       "      <td>NaN</td>\n",
       "      <td>NaN</td>\n",
       "      <td>NaN</td>\n",
       "      <td>NaN</td>\n",
       "      <td>NaN</td>\n",
       "      <td>NaN</td>\n",
       "      <td>NaN</td>\n",
       "      <td>NaN</td>\n",
       "      <td>NaN</td>\n",
       "      <td>NaN</td>\n",
       "    </tr>\n",
       "    <tr>\n",
       "      <th>1</th>\n",
       "      <td>29</td>\n",
       "      <td>Protoss</td>\n",
       "      <td>s</td>\n",
       "      <td>Base</td>\n",
       "      <td>s</td>\n",
       "      <td>s</td>\n",
       "      <td>Base</td>\n",
       "      <td>s</td>\n",
       "      <td>s</td>\n",
       "      <td>Base</td>\n",
       "      <td>...</td>\n",
       "      <td>NaN</td>\n",
       "      <td>NaN</td>\n",
       "      <td>NaN</td>\n",
       "      <td>NaN</td>\n",
       "      <td>NaN</td>\n",
       "      <td>NaN</td>\n",
       "      <td>NaN</td>\n",
       "      <td>NaN</td>\n",
       "      <td>NaN</td>\n",
       "      <td>NaN</td>\n",
       "    </tr>\n",
       "    <tr>\n",
       "      <th>2</th>\n",
       "      <td>53</td>\n",
       "      <td>Protoss</td>\n",
       "      <td>Base</td>\n",
       "      <td>s</td>\n",
       "      <td>s</td>\n",
       "      <td>s</td>\n",
       "      <td>Base</td>\n",
       "      <td>s</td>\n",
       "      <td>hotkey30</td>\n",
       "      <td>hotkey00</td>\n",
       "      <td>...</td>\n",
       "      <td>NaN</td>\n",
       "      <td>NaN</td>\n",
       "      <td>NaN</td>\n",
       "      <td>NaN</td>\n",
       "      <td>NaN</td>\n",
       "      <td>NaN</td>\n",
       "      <td>NaN</td>\n",
       "      <td>NaN</td>\n",
       "      <td>NaN</td>\n",
       "      <td>NaN</td>\n",
       "    </tr>\n",
       "    <tr>\n",
       "      <th>3</th>\n",
       "      <td>29</td>\n",
       "      <td>Protoss</td>\n",
       "      <td>Base</td>\n",
       "      <td>s</td>\n",
       "      <td>s</td>\n",
       "      <td>Base</td>\n",
       "      <td>s</td>\n",
       "      <td>s</td>\n",
       "      <td>s</td>\n",
       "      <td>t5</td>\n",
       "      <td>...</td>\n",
       "      <td>NaN</td>\n",
       "      <td>NaN</td>\n",
       "      <td>NaN</td>\n",
       "      <td>NaN</td>\n",
       "      <td>NaN</td>\n",
       "      <td>NaN</td>\n",
       "      <td>NaN</td>\n",
       "      <td>NaN</td>\n",
       "      <td>NaN</td>\n",
       "      <td>NaN</td>\n",
       "    </tr>\n",
       "    <tr>\n",
       "      <th>4</th>\n",
       "      <td>53</td>\n",
       "      <td>Protoss</td>\n",
       "      <td>Base</td>\n",
       "      <td>s</td>\n",
       "      <td>s</td>\n",
       "      <td>s</td>\n",
       "      <td>Base</td>\n",
       "      <td>s</td>\n",
       "      <td>hotkey30</td>\n",
       "      <td>hotkey00</td>\n",
       "      <td>...</td>\n",
       "      <td>NaN</td>\n",
       "      <td>NaN</td>\n",
       "      <td>NaN</td>\n",
       "      <td>NaN</td>\n",
       "      <td>NaN</td>\n",
       "      <td>NaN</td>\n",
       "      <td>NaN</td>\n",
       "      <td>NaN</td>\n",
       "      <td>NaN</td>\n",
       "      <td>NaN</td>\n",
       "    </tr>\n",
       "  </tbody>\n",
       "</table>\n",
       "<p>5 rows × 10539 columns</p>\n",
       "</div>"
      ],
      "text/plain": [
       "   battleneturl played_race     0     1  2     3     4  5         6         7  \\\n",
       "0            53     Protoss  Base     s  s     s     s  s        t5      Base   \n",
       "1            29     Protoss     s  Base  s     s  Base  s         s      Base   \n",
       "2            53     Protoss  Base     s  s     s  Base  s  hotkey30  hotkey00   \n",
       "3            29     Protoss  Base     s  s  Base     s  s         s        t5   \n",
       "4            53     Protoss  Base     s  s     s  Base  s  hotkey30  hotkey00   \n",
       "\n",
       "   ... 10527 10528 10529 10530 10531 10532 10533 10534 10535 10536  \n",
       "0  ...   NaN   NaN   NaN   NaN   NaN   NaN   NaN   NaN   NaN   NaN  \n",
       "1  ...   NaN   NaN   NaN   NaN   NaN   NaN   NaN   NaN   NaN   NaN  \n",
       "2  ...   NaN   NaN   NaN   NaN   NaN   NaN   NaN   NaN   NaN   NaN  \n",
       "3  ...   NaN   NaN   NaN   NaN   NaN   NaN   NaN   NaN   NaN   NaN  \n",
       "4  ...   NaN   NaN   NaN   NaN   NaN   NaN   NaN   NaN   NaN   NaN  \n",
       "\n",
       "[5 rows x 10539 columns]"
      ]
     },
     "execution_count": 6,
     "metadata": {},
     "output_type": "execute_result"
    }
   ],
   "source": [
    "train_ds.head()"
   ]
  },
  {
   "cell_type": "code",
   "execution_count": 7,
   "metadata": {},
   "outputs": [],
   "source": [
    "test_ds = read_ds(Path(\"../data/TEST.CSV\"), ds=\"TEST\")"
   ]
  },
  {
   "cell_type": "code",
   "execution_count": 8,
   "metadata": {},
   "outputs": [
    {
     "data": {
      "text/html": [
       "<div>\n",
       "<style scoped>\n",
       "    .dataframe tbody tr th:only-of-type {\n",
       "        vertical-align: middle;\n",
       "    }\n",
       "\n",
       "    .dataframe tbody tr th {\n",
       "        vertical-align: top;\n",
       "    }\n",
       "\n",
       "    .dataframe thead th {\n",
       "        text-align: right;\n",
       "    }\n",
       "</style>\n",
       "<table border=\"1\" class=\"dataframe\">\n",
       "  <thead>\n",
       "    <tr style=\"text-align: right;\">\n",
       "      <th></th>\n",
       "      <th>played_race</th>\n",
       "      <th>0</th>\n",
       "      <th>1</th>\n",
       "      <th>2</th>\n",
       "      <th>3</th>\n",
       "      <th>4</th>\n",
       "      <th>5</th>\n",
       "      <th>6</th>\n",
       "      <th>7</th>\n",
       "      <th>8</th>\n",
       "      <th>...</th>\n",
       "      <th>6807</th>\n",
       "      <th>6808</th>\n",
       "      <th>6809</th>\n",
       "      <th>6810</th>\n",
       "      <th>6811</th>\n",
       "      <th>6812</th>\n",
       "      <th>6813</th>\n",
       "      <th>6814</th>\n",
       "      <th>6815</th>\n",
       "      <th>6816</th>\n",
       "    </tr>\n",
       "  </thead>\n",
       "  <tbody>\n",
       "    <tr>\n",
       "      <th>0</th>\n",
       "      <td>Zerg</td>\n",
       "      <td>s</td>\n",
       "      <td>s</td>\n",
       "      <td>s</td>\n",
       "      <td>hotkey10</td>\n",
       "      <td>s</td>\n",
       "      <td>hotkey60</td>\n",
       "      <td>s</td>\n",
       "      <td>hotkey00</td>\n",
       "      <td>s</td>\n",
       "      <td>...</td>\n",
       "      <td>NaN</td>\n",
       "      <td>NaN</td>\n",
       "      <td>NaN</td>\n",
       "      <td>NaN</td>\n",
       "      <td>NaN</td>\n",
       "      <td>NaN</td>\n",
       "      <td>NaN</td>\n",
       "      <td>NaN</td>\n",
       "      <td>NaN</td>\n",
       "      <td>NaN</td>\n",
       "    </tr>\n",
       "    <tr>\n",
       "      <th>1</th>\n",
       "      <td>Terran</td>\n",
       "      <td>s</td>\n",
       "      <td>hotkey30</td>\n",
       "      <td>hotkey00</td>\n",
       "      <td>t5</td>\n",
       "      <td>s</td>\n",
       "      <td>hotkey32</td>\n",
       "      <td>s</td>\n",
       "      <td>hotkey32</td>\n",
       "      <td>s</td>\n",
       "      <td>...</td>\n",
       "      <td>NaN</td>\n",
       "      <td>NaN</td>\n",
       "      <td>NaN</td>\n",
       "      <td>NaN</td>\n",
       "      <td>NaN</td>\n",
       "      <td>NaN</td>\n",
       "      <td>NaN</td>\n",
       "      <td>NaN</td>\n",
       "      <td>NaN</td>\n",
       "      <td>NaN</td>\n",
       "    </tr>\n",
       "    <tr>\n",
       "      <th>2</th>\n",
       "      <td>Protoss</td>\n",
       "      <td>Base</td>\n",
       "      <td>s</td>\n",
       "      <td>s</td>\n",
       "      <td>Base</td>\n",
       "      <td>s</td>\n",
       "      <td>hotkey20</td>\n",
       "      <td>hotkey30</td>\n",
       "      <td>hotkey60</td>\n",
       "      <td>hotkey40</td>\n",
       "      <td>...</td>\n",
       "      <td>NaN</td>\n",
       "      <td>NaN</td>\n",
       "      <td>NaN</td>\n",
       "      <td>NaN</td>\n",
       "      <td>NaN</td>\n",
       "      <td>NaN</td>\n",
       "      <td>NaN</td>\n",
       "      <td>NaN</td>\n",
       "      <td>NaN</td>\n",
       "      <td>NaN</td>\n",
       "    </tr>\n",
       "    <tr>\n",
       "      <th>3</th>\n",
       "      <td>Zerg</td>\n",
       "      <td>s</td>\n",
       "      <td>s</td>\n",
       "      <td>s</td>\n",
       "      <td>s</td>\n",
       "      <td>hotkey20</td>\n",
       "      <td>s</td>\n",
       "      <td>hotkey40</td>\n",
       "      <td>t5</td>\n",
       "      <td>t10</td>\n",
       "      <td>...</td>\n",
       "      <td>NaN</td>\n",
       "      <td>NaN</td>\n",
       "      <td>NaN</td>\n",
       "      <td>NaN</td>\n",
       "      <td>NaN</td>\n",
       "      <td>NaN</td>\n",
       "      <td>NaN</td>\n",
       "      <td>NaN</td>\n",
       "      <td>NaN</td>\n",
       "      <td>NaN</td>\n",
       "    </tr>\n",
       "    <tr>\n",
       "      <th>4</th>\n",
       "      <td>Protoss</td>\n",
       "      <td>Base</td>\n",
       "      <td>s</td>\n",
       "      <td>s</td>\n",
       "      <td>Base</td>\n",
       "      <td>s</td>\n",
       "      <td>hotkey50</td>\n",
       "      <td>hotkey30</td>\n",
       "      <td>t5</td>\n",
       "      <td>hotkey40</td>\n",
       "      <td>...</td>\n",
       "      <td>NaN</td>\n",
       "      <td>NaN</td>\n",
       "      <td>NaN</td>\n",
       "      <td>NaN</td>\n",
       "      <td>NaN</td>\n",
       "      <td>NaN</td>\n",
       "      <td>NaN</td>\n",
       "      <td>NaN</td>\n",
       "      <td>NaN</td>\n",
       "      <td>NaN</td>\n",
       "    </tr>\n",
       "  </tbody>\n",
       "</table>\n",
       "<p>5 rows × 6818 columns</p>\n",
       "</div>"
      ],
      "text/plain": [
       "  played_race     0         1         2         3         4         5  \\\n",
       "0        Zerg     s         s         s  hotkey10         s  hotkey60   \n",
       "1      Terran     s  hotkey30  hotkey00        t5         s  hotkey32   \n",
       "2     Protoss  Base         s         s      Base         s  hotkey20   \n",
       "3        Zerg     s         s         s         s  hotkey20         s   \n",
       "4     Protoss  Base         s         s      Base         s  hotkey50   \n",
       "\n",
       "          6         7         8  ... 6807 6808 6809 6810 6811 6812 6813 6814  \\\n",
       "0         s  hotkey00         s  ...  NaN  NaN  NaN  NaN  NaN  NaN  NaN  NaN   \n",
       "1         s  hotkey32         s  ...  NaN  NaN  NaN  NaN  NaN  NaN  NaN  NaN   \n",
       "2  hotkey30  hotkey60  hotkey40  ...  NaN  NaN  NaN  NaN  NaN  NaN  NaN  NaN   \n",
       "3  hotkey40        t5       t10  ...  NaN  NaN  NaN  NaN  NaN  NaN  NaN  NaN   \n",
       "4  hotkey30        t5  hotkey40  ...  NaN  NaN  NaN  NaN  NaN  NaN  NaN  NaN   \n",
       "\n",
       "  6815 6816  \n",
       "0  NaN  NaN  \n",
       "1  NaN  NaN  \n",
       "2  NaN  NaN  \n",
       "3  NaN  NaN  \n",
       "4  NaN  NaN  \n",
       "\n",
       "[5 rows x 6818 columns]"
      ]
     },
     "execution_count": 8,
     "metadata": {},
     "output_type": "execute_result"
    }
   ],
   "source": [
    "test_ds.head()"
   ]
  },
  {
   "cell_type": "code",
   "execution_count": 9,
   "metadata": {},
   "outputs": [
    {
     "name": "stdout",
     "output_type": "stream",
     "text": [
      "Train dataset shape: (3052, 10539), Test dataset shape: (340, 6818)\n"
     ]
    }
   ],
   "source": [
    "print(f\"Train dataset shape: {train_ds.shape}, Test dataset shape: {test_ds.shape}\")"
   ]
  },
  {
   "cell_type": "markdown",
   "metadata": {},
   "source": [
    "# 2. Visualize the data"
   ]
  },
  {
   "cell_type": "code",
   "execution_count": 10,
   "metadata": {},
   "outputs": [],
   "source": [
    "# Copy the dataset for visualization\n",
    "train_ds_copy = train_ds.copy()"
   ]
  },
  {
   "cell_type": "markdown",
   "metadata": {},
   "source": [
    "## 2.1 Game duration"
   ]
  },
  {
   "cell_type": "code",
   "execution_count": 11,
   "metadata": {},
   "outputs": [],
   "source": [
    "def compute_durations(dataset: pd.DataFrame) -> pd.DataFrame:\n",
    "    durations = []\n",
    "\n",
    "    # Iterate over each row in the dataframe\n",
    "    for _, row in dataset.iterrows():\n",
    "        # Convert the row to a list (strings, possibly some NaN if missing)\n",
    "        row_list = row.tolist()\n",
    "\n",
    "        # Filter columns that start with \"t\" (e.g., \"t10\", \"t120\", etc.)\n",
    "        time_tokens = [\n",
    "            col for col in row_list if isinstance(col, str) and col.startswith(\"t\")\n",
    "        ]\n",
    "\n",
    "        if time_tokens:\n",
    "            # Get the last time token in the row\n",
    "            last_time_token = time_tokens[-1]\n",
    "            # Convert from e.g. \"t135\" -> integer 135\n",
    "            duration = int(last_time_token[1:])\n",
    "            durations.append(duration)\n",
    "        else:\n",
    "            # If no time tokens, we can append None or skip.\n",
    "            durations.append(None)\n",
    "    \n",
    "    return durations"
   ]
  },
  {
   "cell_type": "code",
   "execution_count": 12,
   "metadata": {},
   "outputs": [
    {
     "name": "stdout",
     "output_type": "stream",
     "text": [
      "Number of rows with missing duration: 10\n"
     ]
    },
    {
     "data": {
      "image/png": "[encoded data removed]",
      "text/plain": [
       "<Figure size 800x600 with 1 Axes>"
      ]
     },
     "metadata": {},
     "output_type": "display_data"
    }
   ],
   "source": [
    "train_ds_copy[\"duration\"] = compute_durations(train_ds_copy)\n",
    "\n",
    "# Print nb of rows with missing duration\n",
    "print(f\"Number of rows with missing duration: {train_ds_copy['duration'].isna().sum()}\")\n",
    "\n",
    "# Drop rows without a valid duration\n",
    "train_ds_copy.dropna(subset=[\"duration\"], inplace=True)\n",
    "\n",
    "# Plot the distribution as a histogram\n",
    "plt.figure(figsize=(8, 6))\n",
    "train_ds_copy[\"duration\"].plot(kind=\"hist\", bins=20, edgecolor=\"black\")\n",
    "plt.title(\"Distribution of Game Durations\")\n",
    "plt.xlabel(\"Game Duration (seconds)\")\n",
    "plt.ylabel(\"Count\")\n",
    "plt.grid(True)\n",
    "plt.show()"
   ]
  },
  {
   "cell_type": "markdown",
   "metadata": {},
   "source": [
    "## 2.1 Global statistics"
   ]
  },
  {
   "cell_type": "code",
   "execution_count": 13,
   "metadata": {},
   "outputs": [
    {
     "name": "stdout",
     "output_type": "stream",
     "text": [
      "Total number of rows (games): 3042\n",
      "Number of unique players: 200\n",
      "Number of unique races: 3 \n",
      "\n",
      "=== Race Distribution ===\n",
      " played_race\n",
      "Protoss    1208\n",
      "Zerg       1056\n",
      "Terran      778\n",
      "Name: count, dtype: int64 \n",
      "\n",
      "=== Duration Summary ===\n",
      "min        5.000000\n",
      "max     5770.000000\n",
      "mean    1092.041420\n",
      "std      472.500389\n",
      "Name: duration, dtype: float64\n",
      "\n",
      "=== Duration by Race ===\n",
      "              min     max         mean         std\n",
      "played_race                                       \n",
      "Protoss       5.0  3805.0  1051.672185  434.351665\n",
      "Terran       10.0  5770.0  1148.560411  473.947642\n",
      "Zerg         10.0  5770.0  1096.581439  507.945177\n"
     ]
    }
   ],
   "source": [
    "# Display global statistics about the dataset\n",
    "print(\"Total number of rows (games):\", len(train_ds_copy))\n",
    "\n",
    "# If you have a unique player identifier (e.g. 'battleneturl')\n",
    "if \"battleneturl\" in train_ds_copy.columns:\n",
    "    print(\"Number of unique players:\", train_ds_copy[\"battleneturl\"].nunique())\n",
    "\n",
    "# If you have a race column (e.g. 'played_race')\n",
    "if \"played_race\" in train_ds_copy.columns:\n",
    "    print(\"Number of unique races:\", train_ds_copy[\"played_race\"].nunique(), \"\\n\")\n",
    "    print(\"=== Race Distribution ===\\n\", train_ds_copy[\"played_race\"].value_counts(), \"\\n\")\n",
    "\n",
    "# Basic statistics for durations\n",
    "if \"duration\" in train_ds_copy.columns:\n",
    "    print(\"=== Duration Summary ===\")\n",
    "    print(train_ds_copy[\"duration\"].agg([\"min\", \"max\", \"mean\", \"std\"]))\n",
    "\n",
    "    # Example: Group by race to see duration stats per race\n",
    "    if \"played_race\" in train_ds_copy.columns:\n",
    "        print(\"\\n=== Duration by Race ===\")\n",
    "        print(train_ds_copy.groupby(\"played_race\")[\"duration\"].agg([\"min\", \"max\", \"mean\", \"std\"]))\n"
   ]
  },
  {
   "cell_type": "markdown",
   "metadata": {},
   "source": [
    "The most played race is Protoss, followed by Zerg and Terran. Overall the distribution is balanced.\n",
    "\n",
    "In duration, there are outliers in the data that should be removed."
   ]
  },
  {
   "cell_type": "markdown",
   "metadata": {},
   "source": [
    "# 3. Preprocessing"
   ]
  },
  {
   "cell_type": "markdown",
   "metadata": {},
   "source": [
    "## 3.1 Preprocessing functions"
   ]
  },
  {
   "cell_type": "code",
   "execution_count": 14,
   "metadata": {},
   "outputs": [],
   "source": [
    "def get_dummies(df: pd.DataFrame, columns: list = [\"played_race\"]) -> pd.DataFrame:\n",
    "    \"\"\"Converts textual columns to one-hot encoded vectors (one column per possible value)\"\"\"\n",
    "    df = pd.get_dummies(df, columns=columns)\n",
    "    \n",
    "    return df"
   ]
  },
  {
   "cell_type": "code",
   "execution_count": 15,
   "metadata": {},
   "outputs": [],
   "source": [
    "def action_cols_to_list(df: pd.DataFrame, train: bool = True) -> None:\n",
    "    \"\"\"Converts the action columns to a list of actions column\"\"\"\n",
    "    # Make a deep copy to avoid the SettingWithCopyWarning\n",
    "    # df = df.copy()\n",
    "\n",
    "    # Now safely do your assignments\n",
    "    action_cols = df.columns[2 if train else 1:]\n",
    "    df[\"actions\"] = (\n",
    "        df[action_cols]\n",
    "        .apply(lambda row: [x for x in row if pd.notna(x)], axis=1)\n",
    "    )\n",
    "\n",
    "    df.drop(columns=action_cols, inplace=True)"
   ]
  },
  {
   "cell_type": "code",
   "execution_count": 16,
   "metadata": {},
   "outputs": [],
   "source": [
    "def ceil_actions_from_duration(row) -> None:\n",
    "    if \"t2000\" in row:  # Check if \"t2000\" exists in the actions list\n",
    "        t2000_index = row.index(\"t2000\")  # Find the index of \"t2000\"\n",
    "        return row[:t2000_index + 1]  # Keep all actions up to and including \"t2000\"\n",
    "    return row  # If \"t2000\" doesn't exist, keep the entire row"
   ]
  },
  {
   "cell_type": "code",
   "execution_count": 17,
   "metadata": {},
   "outputs": [],
   "source": [
    "def preprocess_dataset(df: pd.DataFrame, train: bool = True) -> pd.DataFrame:\n",
    "    \"\"\"Preprocess the dataset\"\"\"\n",
    "    processed_df = df.copy()\n",
    "    action_cols_to_list(processed_df, train)\n",
    "    processed_df[\"actions\"] = processed_df[\"actions\"].apply(ceil_actions_from_duration)\n",
    "\n",
    "    return get_dummies(processed_df)"
   ]
  },
  {
   "cell_type": "markdown",
   "metadata": {},
   "source": [
    "## 3.2 Apply preprocessing steps"
   ]
  },
  {
   "cell_type": "code",
   "execution_count": 18,
   "metadata": {},
   "outputs": [],
   "source": [
    "filtered_train_ds = preprocess_dataset(train_ds)"
   ]
  },
  {
   "cell_type": "code",
   "execution_count": 19,
   "metadata": {},
   "outputs": [
    {
     "data": {
      "text/html": [
       "<div>\n",
       "<style scoped>\n",
       "    .dataframe tbody tr th:only-of-type {\n",
       "        vertical-align: middle;\n",
       "    }\n",
       "\n",
       "    .dataframe tbody tr th {\n",
       "        vertical-align: top;\n",
       "    }\n",
       "\n",
       "    .dataframe thead th {\n",
       "        text-align: right;\n",
       "    }\n",
       "</style>\n",
       "<table border=\"1\" class=\"dataframe\">\n",
       "  <thead>\n",
       "    <tr style=\"text-align: right;\">\n",
       "      <th></th>\n",
       "      <th>battleneturl</th>\n",
       "      <th>actions</th>\n",
       "      <th>played_race_Protoss</th>\n",
       "      <th>played_race_Terran</th>\n",
       "      <th>played_race_Zerg</th>\n",
       "    </tr>\n",
       "  </thead>\n",
       "  <tbody>\n",
       "    <tr>\n",
       "      <th>0</th>\n",
       "      <td>53</td>\n",
       "      <td>[Base, s, s, s, s, s, t5, Base, s, hotkey30, h...</td>\n",
       "      <td>True</td>\n",
       "      <td>False</td>\n",
       "      <td>False</td>\n",
       "    </tr>\n",
       "    <tr>\n",
       "      <th>1</th>\n",
       "      <td>29</td>\n",
       "      <td>[s, Base, s, s, Base, s, s, Base, s, t5, hotke...</td>\n",
       "      <td>True</td>\n",
       "      <td>False</td>\n",
       "      <td>False</td>\n",
       "    </tr>\n",
       "    <tr>\n",
       "      <th>2</th>\n",
       "      <td>53</td>\n",
       "      <td>[Base, s, s, s, Base, s, hotkey30, hotkey00, t...</td>\n",
       "      <td>True</td>\n",
       "      <td>False</td>\n",
       "      <td>False</td>\n",
       "    </tr>\n",
       "    <tr>\n",
       "      <th>3</th>\n",
       "      <td>29</td>\n",
       "      <td>[Base, s, s, Base, s, s, s, t5, Base, s, hotke...</td>\n",
       "      <td>True</td>\n",
       "      <td>False</td>\n",
       "      <td>False</td>\n",
       "    </tr>\n",
       "    <tr>\n",
       "      <th>4</th>\n",
       "      <td>53</td>\n",
       "      <td>[Base, s, s, s, Base, s, hotkey30, hotkey00, t...</td>\n",
       "      <td>True</td>\n",
       "      <td>False</td>\n",
       "      <td>False</td>\n",
       "    </tr>\n",
       "  </tbody>\n",
       "</table>\n",
       "</div>"
      ],
      "text/plain": [
       "   battleneturl                                            actions  \\\n",
       "0            53  [Base, s, s, s, s, s, t5, Base, s, hotkey30, h...   \n",
       "1            29  [s, Base, s, s, Base, s, s, Base, s, t5, hotke...   \n",
       "2            53  [Base, s, s, s, Base, s, hotkey30, hotkey00, t...   \n",
       "3            29  [Base, s, s, Base, s, s, s, t5, Base, s, hotke...   \n",
       "4            53  [Base, s, s, s, Base, s, hotkey30, hotkey00, t...   \n",
       "\n",
       "   played_race_Protoss  played_race_Terran  played_race_Zerg  \n",
       "0                 True               False             False  \n",
       "1                 True               False             False  \n",
       "2                 True               False             False  \n",
       "3                 True               False             False  \n",
       "4                 True               False             False  "
      ]
     },
     "execution_count": 19,
     "metadata": {},
     "output_type": "execute_result"
    }
   ],
   "source": [
    "filtered_train_ds.head()"
   ]
  },
  {
   "cell_type": "markdown",
   "metadata": {},
   "source": [
    "# 4. Feature extraction"
   ]
  },
  {
   "cell_type": "markdown",
   "metadata": {},
   "source": [
    "## 4.1 Feature extraction functions"
   ]
  },
  {
   "cell_type": "code",
   "execution_count": 20,
   "metadata": {},
   "outputs": [],
   "source": [
    "def chunkify_actions(action_list : list):\n",
    "    \"\"\"\n",
    "    Given a list of actions (e.g., [\"Base\", \"s\", \"s\", \"t5\", \"hotkey30\", \"t10\", ...]),\n",
    "    produce a list of tuples (start_time, end_time, actions_in_chunk).\n",
    "    If we see 't5', that means the chunk boundary is 5 seconds, etc.\n",
    "    \"\"\"\n",
    "    chunks = []\n",
    "    current_time = 0\n",
    "    chunk_actions = []\n",
    "\n",
    "    def parse_time_marker(a):\n",
    "        # e.g. 't5' -> int(\"5\")\n",
    "        return int(a[1:])\n",
    "\n",
    "    for a in action_list:\n",
    "        if a.startswith(\"t\"):\n",
    "            # We hit a time boundary\n",
    "            end_time = parse_time_marker(a)\n",
    "            if chunk_actions:\n",
    "                chunks.append((current_time, end_time, chunk_actions))\n",
    "            # Move forward\n",
    "            current_time = end_time\n",
    "            chunk_actions = []\n",
    "        else:\n",
    "            # It's a normal action\n",
    "            chunk_actions.append(a)\n",
    "\n",
    "    # If leftover actions exist after the last tXX\n",
    "    # We'll treat them as from current_time to current_time (0-length),\n",
    "    # or you can define a “max game time” if known. For now, let's store them anyway.\n",
    "    if chunk_actions:\n",
    "        chunks.append((current_time, current_time, chunk_actions))\n",
    "\n",
    "    return chunks\n"
   ]
  },
  {
   "cell_type": "code",
   "execution_count": 21,
   "metadata": {},
   "outputs": [],
   "source": [
    "def compute_features_per_chunk(chunks):\n",
    "    \"\"\"\n",
    "    Given a list of (start_t, end_t, actions_in_chunk),\n",
    "    classify them into early/mid/late, count relevant actions,\n",
    "    compute average in each phase.\n",
    "    \"\"\"\n",
    "    # Phase boundaries\n",
    "    START_MAX = 60 # 1 minutes\n",
    "    EARLY_MAX = 360  # 6 minutes\n",
    "    MID_MAX = 2000  # 25 minutes\n",
    "\n",
    "    # We'll accumulate total counts and total durations (in seconds) for each phase\n",
    "    phases = [\"start\", \"early\", \"mid\"]\n",
    "\n",
    "    base_keys = {\n",
    "        \"hk_created\": 0,\n",
    "        \"hk_used\":    0,\n",
    "        \"base\":       0,\n",
    "        \"mineral\":    0,\n",
    "        \"other\":      0\n",
    "    }\n",
    "\n",
    "    phase_counts = {\n",
    "        ph: {\n",
    "            **{f\"hk_{i}\": 0 for i in range(10)},\n",
    "            **base_keys\n",
    "        }\n",
    "        for ph in phases\n",
    "    }\n",
    "\n",
    "    phase_durations = {ph: 0 for ph in phases}\n",
    "\n",
    "    def get_phase(t):\n",
    "        if t < START_MAX:\n",
    "            return \"start\"\n",
    "        elif t < EARLY_MAX:\n",
    "            return \"early\"\n",
    "        elif t < MID_MAX:\n",
    "            return \"mid\"\n",
    "\n",
    "    for start_t, end_t, acts in chunks:\n",
    "        if (start_t >= MID_MAX):\n",
    "            break\n",
    "\n",
    "        # Simple approach: classify chunk by its start time (some people use midpoint)\n",
    "        phase = get_phase(start_t)\n",
    "        # Avoid zero durations => set it to at least 1 second\n",
    "        duration = max(1, end_t - start_t)\n",
    "\n",
    "        # Count actions in this chunk\n",
    "        c_hk_pressed = {i: 0 for i in range(10)}\n",
    "        c_hk_created = 0\n",
    "        c_hk_used = 0\n",
    "        c_base = 0\n",
    "        c_mineral = 0\n",
    "        c_other = 0\n",
    "\n",
    "        for a in acts:\n",
    "            if a.startswith(\"hotkey\"):\n",
    "                key = int(a[-2])\n",
    "                c_hk_pressed[key] += 1\n",
    "                if a.endswith(\"0\"):\n",
    "                    c_hk_created += 1\n",
    "                elif a.endswith(\"2\"):\n",
    "                    c_hk_used += 1\n",
    "            elif a in [\"sBase\", \"Base\"]:\n",
    "                c_base += 1\n",
    "            elif a in [\"sMineral\", \"SingleMineral\"]:\n",
    "                c_mineral += 1\n",
    "            elif a == \"s\":\n",
    "                c_other += 1\n",
    "            else:\n",
    "                # some other action not relevant here\n",
    "                pass\n",
    "\n",
    "        for i in range(10):\n",
    "            phase_counts[phase][f\"hk_{i}\"] += c_hk_pressed[i]\n",
    "        phase_counts[phase][\"hk_created\"] += c_hk_created\n",
    "        phase_counts[phase][\"hk_used\"] += c_hk_used\n",
    "        phase_counts[phase][\"base\"] += c_base\n",
    "        phase_counts[phase][\"mineral\"] += c_mineral\n",
    "        phase_counts[phase][\"other\"] += c_other\n",
    "\n",
    "        phase_durations[phase] += duration\n",
    "\n",
    "    # Now compute the final average for each phase\n",
    "    # e.g.  (count / total_duration_in_phase)\n",
    "    feats = {}\n",
    "    for phase in phases:\n",
    "        dur = phase_durations[phase]\n",
    "        pc = phase_counts[phase]\n",
    "        if dur == 0:\n",
    "            for i in range(10):\n",
    "                feats[f\"{phase}_hk_{i}\"] = 0\n",
    "            feats[f\"{phase}_hk_created\"] = 0\n",
    "            feats[f\"{phase}_hk_used\"] = 0\n",
    "            feats[f\"{phase}_base\"] = 0\n",
    "            feats[f\"{phase}_mineral\"] = 0\n",
    "            feats[f\"{phase}_other\"] = 0\n",
    "        else:\n",
    "            for i in range(10):\n",
    "                feats[f\"{phase}_hk_{i}\"] = (pc[f\"hk_{i}\"] / dur)\n",
    "            feats[f\"{phase}_hk_created\"] = (pc[\"hk_created\"] / dur)\n",
    "            feats[f\"{phase}_hk_used\"] = (pc[\"hk_used\"] / dur)\n",
    "            feats[f\"{phase}_base\"] = (pc[\"base\"] / dur)\n",
    "            feats[f\"{phase}_mineral\"] = (pc[\"mineral\"] / dur)\n",
    "            feats[f\"{phase}_other\"] = (pc[\"other\"] / dur)\n",
    "\n",
    "    return feats"
   ]
  },
  {
   "cell_type": "code",
   "execution_count": 22,
   "metadata": {},
   "outputs": [],
   "source": [
    "def compute_all_features(row):\n",
    "   \"\"\"\n",
    "   row is a single Pandas row with:\n",
    "      row[\"actions\"] = list of action strings\n",
    "      row[\"battleneturl\"], row[\"played_race\"], etc. if needed\n",
    "   Returns a dict of feature_name -> value\n",
    "   \"\"\"\n",
    "   chunks = chunkify_actions(row)\n",
    "   feats = compute_features_per_chunk(chunks)\n",
    "   \n",
    "   # You can also include the player's ID or race in the returned features if desired\n",
    "   return feats"
   ]
  },
  {
   "cell_type": "code",
   "execution_count": 23,
   "metadata": {},
   "outputs": [],
   "source": [
    "def add_features(df: pd.DataFrame) -> pd.DataFrame:\n",
    "    features_df = df[\"actions\"].apply(compute_all_features).apply(pd.Series)\n",
    "\n",
    "    # Combine with the original df if you like\n",
    "    combined_df = pd.concat([df, features_df], axis=1)\n",
    "    \n",
    "    # Drop the actions column\n",
    "    combined_df.drop(columns=[\"actions\"], inplace=True)\n",
    "    \n",
    "    return combined_df"
   ]
  },
  {
   "cell_type": "markdown",
   "metadata": {},
   "source": [
    "## 4.2 Apply feature extraction steps"
   ]
  },
  {
   "cell_type": "code",
   "execution_count": 24,
   "metadata": {},
   "outputs": [
    {
     "name": "stdout",
     "output_type": "stream",
     "text": [
      "Index(['battleneturl', 'played_race_Protoss', 'played_race_Terran',\n",
      "       'played_race_Zerg', 'start_hk_0', 'start_hk_1', 'start_hk_2',\n",
      "       'start_hk_3', 'start_hk_4', 'start_hk_5', 'start_hk_6', 'start_hk_7',\n",
      "       'start_hk_8', 'start_hk_9', 'start_hk_created', 'start_hk_used',\n",
      "       'start_base', 'start_mineral', 'start_other', 'early_hk_0',\n",
      "       'early_hk_1', 'early_hk_2', 'early_hk_3', 'early_hk_4', 'early_hk_5',\n",
      "       'early_hk_6', 'early_hk_7', 'early_hk_8', 'early_hk_9',\n",
      "       'early_hk_created', 'early_hk_used', 'early_base', 'early_mineral',\n",
      "       'early_other', 'mid_hk_0', 'mid_hk_1', 'mid_hk_2', 'mid_hk_3',\n",
      "       'mid_hk_4', 'mid_hk_5', 'mid_hk_6', 'mid_hk_7', 'mid_hk_8', 'mid_hk_9',\n",
      "       'mid_hk_created', 'mid_hk_used', 'mid_base', 'mid_mineral',\n",
      "       'mid_other'],\n",
      "      dtype='object')\n"
     ]
    }
   ],
   "source": [
    "# Apply to entire DataFrame\n",
    "final_train_ds = add_features(filtered_train_ds)\n",
    "\n",
    "print(final_train_ds.columns)"
   ]
  },
  {
   "cell_type": "code",
   "execution_count": 25,
   "metadata": {},
   "outputs": [],
   "source": [
    "label_col = \"battleneturl\"\n",
    "feature_cols = [c for c in final_train_ds.columns if c != label_col]"
   ]
  },
  {
   "cell_type": "code",
   "execution_count": 26,
   "metadata": {},
   "outputs": [
    {
     "name": "stdout",
     "output_type": "stream",
     "text": [
      "Features: ['played_race_Protoss', 'played_race_Terran', 'played_race_Zerg', 'start_hk_0', 'start_hk_1', 'start_hk_2', 'start_hk_3', 'start_hk_4', 'start_hk_5', 'start_hk_6', 'start_hk_7', 'start_hk_8', 'start_hk_9', 'start_hk_created', 'start_hk_used', 'start_base', 'start_mineral', 'start_other', 'early_hk_0', 'early_hk_1', 'early_hk_2', 'early_hk_3', 'early_hk_4', 'early_hk_5', 'early_hk_6', 'early_hk_7', 'early_hk_8', 'early_hk_9', 'early_hk_created', 'early_hk_used', 'early_base', 'early_mineral', 'early_other', 'mid_hk_0', 'mid_hk_1', 'mid_hk_2', 'mid_hk_3', 'mid_hk_4', 'mid_hk_5', 'mid_hk_6', 'mid_hk_7', 'mid_hk_8', 'mid_hk_9', 'mid_hk_created', 'mid_hk_used', 'mid_base', 'mid_mineral', 'mid_other']\n"
     ]
    }
   ],
   "source": [
    "from sklearn.model_selection import train_test_split\n",
    "\n",
    "print(\"Features:\", feature_cols)\n",
    "X = final_train_ds[feature_cols]\n",
    "y = final_train_ds[label_col].values\n",
    "\n",
    "# Split into train/test\n",
    "X_train, X_test, y_train, y_test = train_test_split(\n",
    "    X, y, \n",
    "    test_size=0.2, \n",
    "    random_state=42, \n",
    "    stratify=y\n",
    ")"
   ]
  },
  {
   "cell_type": "markdown",
   "metadata": {},
   "source": [
    "# 6. Submission"
   ]
  },
  {
   "cell_type": "code",
   "execution_count": 33,
   "metadata": {},
   "outputs": [],
   "source": [
    "# Load the clfs\n",
    "import pickle\n",
    "\n",
    "max_time_stamp = 1500\n",
    "with open(f\"../resources/rf-model-t{max_time_stamp}.pkl\", \"rb\") as f:\n",
    "    rf_clf = pickle.load(f)\n",
    "\n",
    "with open(f\"../resources/xgb-model-t{max_time_stamp}.pkl\", \"rb\") as f:\n",
    "    xgb_clf = pickle.load(f)\n",
    "\n",
    "with open(f\"../resources/lr-model-t{max_time_stamp}.pkl\", \"rb\") as f:\n",
    "    lr_clf = pickle.load(f)\n",
    "\n",
    "with open(f\"../resources/svm-model-t{max_time_stamp}.pkl\", \"rb\") as f:\n",
    "    svm_clf = pickle.load(f)"
   ]
  },
  {
   "cell_type": "code",
   "execution_count": 35,
   "metadata": {},
   "outputs": [
    {
     "name": "stdout",
     "output_type": "stream",
     "text": [
      "                                             actions  played_race_Protoss  \\\n",
      "0  [s, s, s, hotkey10, s, hotkey60, s, hotkey00, ...                False   \n",
      "1  [s, hotkey30, hotkey00, t5, s, hotkey32, s, ho...                False   \n",
      "2  [Base, s, s, Base, s, hotkey20, hotkey30, hotk...                 True   \n",
      "3  [s, s, s, s, hotkey20, s, hotkey40, t5, t10, h...                False   \n",
      "4  [Base, s, s, Base, s, hotkey50, hotkey30, t5, ...                 True   \n",
      "\n",
      "   played_race_Terran  played_race_Zerg  \n",
      "0               False              True  \n",
      "1                True             False  \n",
      "2               False             False  \n",
      "3               False              True  \n",
      "4               False             False  \n",
      "(340, 4)\n"
     ]
    }
   ],
   "source": [
    "filtered_test_ds = preprocess_dataset(test_ds, train=False)\n",
    "print(filtered_test_ds.head(), filtered_test_ds.shape, sep=\"\\n\")\n",
    "assert filtered_test_ds.shape[0] == test_ds.shape[0], \"Number of rows changed after preprocessing!\""
   ]
  },
  {
   "cell_type": "code",
   "execution_count": 36,
   "metadata": {},
   "outputs": [
    {
     "name": "stdout",
     "output_type": "stream",
     "text": [
      "   played_race_Protoss  played_race_Terran  played_race_Zerg  start_hk_0  \\\n",
      "0                False               False              True    1.416667   \n",
      "1                False                True             False    0.018182   \n",
      "2                 True               False             False    0.000000   \n",
      "3                False               False              True    0.000000   \n",
      "4                 True               False             False    0.000000   \n",
      "\n",
      "   start_hk_1  start_hk_2  start_hk_3  start_hk_4  start_hk_5  start_hk_6  \\\n",
      "0    0.050000    0.083333    0.000000    0.000000    0.000000    1.500000   \n",
      "1    0.218182    0.018182    1.036364    0.000000    0.000000    0.000000   \n",
      "2    0.000000    0.300000    0.166667    0.016667    0.000000    1.283333   \n",
      "3    0.000000    0.254545    0.000000    0.618182    0.000000    0.000000   \n",
      "4    0.000000    0.000000    0.016667    0.016667    0.333333    0.000000   \n",
      "\n",
      "   ...  mid_hk_5  mid_hk_6  mid_hk_7  mid_hk_8  mid_hk_9  mid_hk_created  \\\n",
      "0  ...  0.000000  0.951550  0.077519  0.000000  0.034884        0.038760   \n",
      "1  ...  0.252396  0.000000  0.000000  0.000000  0.065495        0.062300   \n",
      "2  ...  0.000000  0.729412  0.035294  0.042353  0.000000        0.120000   \n",
      "3  ...  0.004525  0.003620  0.000000  0.000000  0.000000        0.069683   \n",
      "4  ...  0.035714  0.000000  0.007143  0.000000  0.000000        0.046429   \n",
      "\n",
      "   mid_hk_used  mid_base  mid_mineral  mid_other  \n",
      "0     2.468992  0.017442     0.000000   1.187984  \n",
      "1     1.140575  0.000000     0.000000   0.573482  \n",
      "2     2.130588  0.018824     0.000000   0.410588  \n",
      "3     0.805430  0.009955     0.000905   1.235294  \n",
      "4     0.400000  0.021429     0.000000   0.332143  \n",
      "\n",
      "[5 rows x 48 columns]\n",
      "(340, 48)\n"
     ]
    }
   ],
   "source": [
    "final_test_ds = add_features(filtered_test_ds)\n",
    "print(final_test_ds.head(), final_test_ds.shape, sep=\"\\n\")\n",
    "assert final_test_ds.shape[0] == test_ds.shape[0], \"Number of rows changed after adding features!\""
   ]
  },
  {
   "cell_type": "code",
   "execution_count": 51,
   "metadata": {},
   "outputs": [],
   "source": [
    "import numpy as np\n",
    "\n",
    "meta_X_train = np.hstack([\n",
    "    rf_clf.predict_proba(X_train),\n",
    "    xgb_clf.predict_proba(X_train),\n",
    "    lr_clf.predict_proba(X_train),\n",
    "    svm_clf.predict_proba(X_train)\n",
    "])"
   ]
  },
  {
   "cell_type": "code",
   "execution_count": 52,
   "metadata": {},
   "outputs": [],
   "source": [
    "from sklearn.linear_model import LogisticRegression\n",
    "from sklearn.model_selection import RandomizedSearchCV\n",
    "from sklearn.metrics import accuracy_score\n",
    "\n",
    "\n",
    "meta_clf = LogisticRegression(random_state=42)\n",
    "\n",
    "# Define hyperparameter search space for strong regularization, etc.\n",
    "param_distributions = {\n",
    "    'penalty': ['l2', 'l1'],\n",
    "    'C': [0.0001, 0.001, 0.01, 0.1, 1, 10],\n",
    "    'solver': ['liblinear', 'saga'],  # both can handle L1 or L2\n",
    "    'max_iter': [100, 200, 500, 700]\n",
    "}"
   ]
  },
  {
   "cell_type": "code",
   "execution_count": 53,
   "metadata": {},
   "outputs": [
    {
     "name": "stdout",
     "output_type": "stream",
     "text": [
      "Fitting 5 folds for each of 30 candidates, totalling 150 fits\n"
     ]
    },
    {
     "name": "stderr",
     "output_type": "stream",
     "text": [
      "/home/benjamin/miniconda3/envs/llm/lib/python3.12/site-packages/sklearn/model_selection/_split.py:805: UserWarning: The least populated class in y has only 3 members, which is less than n_splits=5.\n",
      "  warnings.warn(\n",
      "/home/benjamin/miniconda3/envs/llm/lib/python3.12/site-packages/sklearn/linear_model/_sag.py:348: ConvergenceWarning: The max_iter was reached which means the coef_ did not converge\n",
      "  warnings.warn(\n",
      "/home/benjamin/miniconda3/envs/llm/lib/python3.12/site-packages/sklearn/linear_model/_sag.py:348: ConvergenceWarning: The max_iter was reached which means the coef_ did not converge\n",
      "  warnings.warn(\n",
      "/home/benjamin/miniconda3/envs/llm/lib/python3.12/site-packages/sklearn/linear_model/_sag.py:348: ConvergenceWarning: The max_iter was reached which means the coef_ did not converge\n",
      "  warnings.warn(\n",
      "/home/benjamin/miniconda3/envs/llm/lib/python3.12/site-packages/sklearn/linear_model/_sag.py:348: ConvergenceWarning: The max_iter was reached which means the coef_ did not converge\n",
      "  warnings.warn(\n",
      "/home/benjamin/miniconda3/envs/llm/lib/python3.12/site-packages/sklearn/linear_model/_sag.py:348: ConvergenceWarning: The max_iter was reached which means the coef_ did not converge\n",
      "  warnings.warn(\n",
      "/home/benjamin/miniconda3/envs/llm/lib/python3.12/site-packages/sklearn/linear_model/_sag.py:348: ConvergenceWarning: The max_iter was reached which means the coef_ did not converge\n",
      "  warnings.warn(\n",
      "/home/benjamin/miniconda3/envs/llm/lib/python3.12/site-packages/sklearn/linear_model/_sag.py:348: ConvergenceWarning: The max_iter was reached which means the coef_ did not converge\n",
      "  warnings.warn(\n",
      "/home/benjamin/miniconda3/envs/llm/lib/python3.12/site-packages/sklearn/linear_model/_sag.py:348: ConvergenceWarning: The max_iter was reached which means the coef_ did not converge\n",
      "  warnings.warn(\n",
      "/home/benjamin/miniconda3/envs/llm/lib/python3.12/site-packages/sklearn/linear_model/_sag.py:348: ConvergenceWarning: The max_iter was reached which means the coef_ did not converge\n",
      "  warnings.warn(\n",
      "/home/benjamin/miniconda3/envs/llm/lib/python3.12/site-packages/sklearn/linear_model/_sag.py:348: ConvergenceWarning: The max_iter was reached which means the coef_ did not converge\n",
      "  warnings.warn(\n"
     ]
    },
    {
     "name": "stdout",
     "output_type": "stream",
     "text": [
      "Best Meta-Model Params: {'solver': 'liblinear', 'penalty': 'l2', 'max_iter': 100, 'C': 10}\n",
      "Best Meta-Model CV Score: 0.997541821717121\n"
     ]
    }
   ],
   "source": [
    "random_search_meta = RandomizedSearchCV(\n",
    "    estimator=meta_clf,\n",
    "    param_distributions=param_distributions,\n",
    "    n_iter=30,\n",
    "    scoring='accuracy',     # Or 'f1', 'roc_auc', etc.\n",
    "    cv=5,                   # 5-fold CV\n",
    "    verbose=1,\n",
    "    random_state=42,\n",
    "    n_jobs=-1\n",
    ")\n",
    "\n",
    "random_search_meta.fit(meta_X_train, y_train)\n",
    "\n",
    "print(\"Best Meta-Model Params:\", random_search_meta.best_params_)\n",
    "print(\"Best Meta-Model CV Score:\", random_search_meta.best_score_)\n",
    "\n",
    "best_meta_model = random_search_meta.best_estimator_"
   ]
  },
  {
   "cell_type": "code",
   "execution_count": 54,
   "metadata": {},
   "outputs": [
    {
     "name": "stdout",
     "output_type": "stream",
     "text": [
      "Stacked Model Test Accuracy: 0.9345335515548282\n"
     ]
    }
   ],
   "source": [
    "meta_X_test = np.hstack([\n",
    "    rf_clf.predict_proba(X_test),\n",
    "    xgb_clf.predict_proba(X_test),\n",
    "    lr_clf.predict_proba(X_test),\n",
    "    svm_clf.predict_proba(X_test)\n",
    "])\n",
    "\n",
    "y_pred_stacked = best_meta_model.predict(meta_X_test)\n",
    "\n",
    "stacked_test_acc = accuracy_score(y_test, y_pred_stacked)\n",
    "print(\"Stacked Model Test Accuracy:\", stacked_test_acc)\n"
   ]
  },
  {
   "cell_type": "code",
   "execution_count": 56,
   "metadata": {},
   "outputs": [],
   "source": [
    "with open(\"../resources/stacked_model.pkl\", \"wb\") as f:\n",
    "    pickle.dump(best_meta_model, f)"
   ]
  },
  {
   "cell_type": "code",
   "execution_count": 29,
   "metadata": {},
   "outputs": [],
   "source": [
    "# Load the model\n",
    "with open(\"../resources/stacked_model.pkl\", \"rb\") as f:\n",
    "    loaded_model = pickle.load(f)"
   ]
  },
  {
   "cell_type": "code",
   "execution_count": 37,
   "metadata": {},
   "outputs": [],
   "source": [
    "base_predictions = np.hstack([\n",
    "    rf_clf.predict_proba(final_test_ds[feature_cols]),\n",
    "    xgb_clf.predict_proba(final_test_ds[feature_cols]),\n",
    "    lr_clf.predict_proba(final_test_ds[feature_cols]),\n",
    "    svm_clf.predict_proba(final_test_ds[feature_cols])\n",
    "])\n",
    "\n",
    "predictions = loaded_model.predict(base_predictions)"
   ]
  },
  {
   "cell_type": "code",
   "execution_count": 40,
   "metadata": {},
   "outputs": [
    {
     "name": "stdout",
     "output_type": "stream",
     "text": [
      "Stacked Model Test Accuracy: 0.9328968903436988\n",
      "Stacked Model Test F1: 0.9221375225226194\n"
     ]
    }
   ],
   "source": [
    "from sklearn.metrics import accuracy_score, f1_score\n",
    "\n",
    "meta_X_test = np.hstack([\n",
    "    rf_clf.predict_proba(X_test),\n",
    "    xgb_clf.predict_proba(X_test),\n",
    "    lr_clf.predict_proba(X_test),\n",
    "    svm_clf.predict_proba(X_test)\n",
    "])\n",
    "\n",
    "y_pred_stacked = loaded_model.predict(meta_X_test)\n",
    "\n",
    "stacked_test_acc = accuracy_score(y_test, y_pred_stacked)\n",
    "stacked_test_f1 = f1_score(y_test, y_pred_stacked, average='weighted')\n",
    "print(\"Stacked Model Test Accuracy:\", stacked_test_acc)\n",
    "print(\"Stacked Model Test F1:\", stacked_test_f1)\n"
   ]
  },
  {
   "cell_type": "code",
   "execution_count": 42,
   "metadata": {},
   "outputs": [
    {
     "name": "stdout",
     "output_type": "stream",
     "text": [
      "                                              prediction\n",
      "RowId                                                   \n",
      "1      http://eu.battle.net/sc2/en/profile/3538115/1/...\n",
      "2      http://eu.battle.net/sc2/en/profile/2896854/1/...\n",
      "3      http://eu.battle.net/sc2/en/profile/3973341/1/...\n",
      "4      http://eu.battle.net/sc2/en/profile/250458/1/V...\n",
      "5      http://eu.battle.net/sc2/en/profile/950504/1/G...\n",
      "(340, 1)\n"
     ]
    }
   ],
   "source": [
    "# Convert the array of codes to URLs using the url_dict\n",
    "urls = [url_dict[code] for code in predictions]\n",
    "\n",
    "# Create a new DataFrame with these URLs\n",
    "urls_df = pd.DataFrame(urls, columns=['prediction'])\n",
    "\n",
    "# Add a 'RowId' column starting at index 1\n",
    "urls_df['RowId'] = range(1, len(urls_df) + 1)\n",
    "\n",
    "# Set 'RowId' as the index\n",
    "urls_df.set_index('RowId', inplace=True)\n",
    "\n",
    "# Display the new DataFrame\n",
    "print(urls_df.head())\n",
    "print(urls_df.shape)"
   ]
  },
  {
   "cell_type": "code",
   "execution_count": 43,
   "metadata": {},
   "outputs": [],
   "source": [
    "urls_df.to_csv(f'./submissions/submission-stacking-t{max_time_stamp}-{stacked_test_acc:.4f}.csv')"
   ]
  }
 ],
 "metadata": {
  "kaggle": {
   "accelerator": "none",
   "dataSources": [
    {
     "datasetId": 6399625,
     "sourceId": 10335289,
     "sourceType": "datasetVersion"
    }
   ],
   "dockerImageVersionId": 30822,
   "isGpuEnabled": false,
   "isInternetEnabled": true,
   "language": "python",
   "sourceType": "notebook"
  },
  "kernelspec": {
   "display_name": "llm",
   "language": "python",
   "name": "python3"
  },
  "language_info": {
   "codemirror_mode": {
    "name": "ipython",
    "version": 3
   },
   "file_extension": ".py",
   "mimetype": "text/x-python",
   "name": "python",
   "nbconvert_exporter": "python",
   "pygments_lexer": "ipython3",
   "version": "3.12.8"
  }
 },
 "nbformat": 4,
 "nbformat_minor": 4
}
