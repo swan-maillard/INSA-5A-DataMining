{
 "cells": [
  {
   "cell_type": "code",
   "execution_count": 1,
   "metadata": {},
   "outputs": [],
   "source": [
    "import pandas as pd\n",
    "import numpy as np\n",
    "import pickle"
   ]
  },
  {
   "cell_type": "code",
   "execution_count": 2,
   "metadata": {
    "_cell_guid": "b1076dfc-b9ad-4769-8c92-a6c4dae69d19",
    "_uuid": "8f2839f25d086af736a60e9eeb907d3b93b6e0e5",
    "execution": {
     "iopub.execute_input": "2025-01-03T16:55:03.498148Z",
     "iopub.status.busy": "2025-01-03T16:55:03.497721Z",
     "iopub.status.idle": "2025-01-03T16:55:03.502661Z",
     "shell.execute_reply": "2025-01-03T16:55:03.501571Z",
     "shell.execute_reply.started": "2025-01-03T16:55:03.498078Z"
    },
    "trusted": true
   },
   "outputs": [],
   "source": [
    "import pandas as pd\n",
    "import numpy as np\n",
    "from typing import Optional, List, Callable, Any, Union, Dict\n",
    "from itertools import product\n",
    "from statistics import mean\n",
    "from pathlib import Path\n",
    "import gzip\n",
    "import os\n",
    "import matplotlib.pyplot as plt"
   ]
  },
  {
   "cell_type": "markdown",
   "metadata": {},
   "source": [
    "### Read datasets\n",
    "Use the gzip function is files ar gzipped"
   ]
  },
  {
   "cell_type": "code",
   "execution_count": 3,
   "metadata": {
    "execution": {
     "iopub.execute_input": "2025-01-03T16:55:03.504167Z",
     "iopub.status.busy": "2025-01-03T16:55:03.503845Z",
     "iopub.status.idle": "2025-01-03T16:55:03.523023Z",
     "shell.execute_reply": "2025-01-03T16:55:03.521924Z",
     "shell.execute_reply.started": "2025-01-03T16:55:03.504128Z"
    },
    "trusted": true
   },
   "outputs": [],
   "source": [
    "def read_ds_gzip(path: Optional[Path]=None, ds: str = \"TEST\") -> pd.DataFrame:\n",
    "    \"\"\"Args:\n",
    "        path (Optional[Path], optional): the path to read the dataset file. Defaults to /kaggle/input/the-insa-starcraft-2-player-prediction-challenge/{ds}.CSV.gz.\n",
    "        ds (str, optional): the part to read (TEST or TEST), to use when path is None. Defaults to \"TEST\".\n",
    "\n",
    "    Returns:\n",
    "        pd.DataFrame:\n",
    "    \"\"\"\n",
    "    with gzip.open(f'/kaggle/input/the-insa-starcraft-2-player-prediction-challenge/{ds}.CSV.gz' if path is None else path) as f:\n",
    "        max_actions = max(( len( str(c).split(\",\")) for c in f.readlines() ))\n",
    "        f.seek(0)\n",
    "        _names = [\"battleneturl\", \"played_race\"] if \"TRAIN\" in ds else [\"played_race\"]\n",
    "        _names.extend(range(max_actions - len(_names)))\n",
    "        return pd.read_csv(f, names=_names, dtype= str)\n",
    "\n",
    "def read_ds(path: Optional[Path]=None, ds: str = \"TEST\"):\n",
    "    \"\"\"Args:\n",
    "        path (Optional[Path], optional): the path to read the dataset file. Defaults to /kaggle/input/the-insa-starcraft-2-player-prediction-challenge/{ds}.CSV.gz.\n",
    "        ds (str, optional): the part to read (TEST or TEST), to use when path is None. Defaults to \"TEST\".\n",
    "\n",
    "    Returns:\n",
    "        pd.DataFrame:\n",
    "    \"\"\"\n",
    "    with open(f'/kaggle/input/test-sc2-keystrokes/{ds}.CSV' if path is None else path) as f:\n",
    "        max_actions = max(( len( str(c).split(\",\")) for c in f.readlines() ))\n",
    "        f.seek(0)\n",
    "        _names = [\"battleneturl\", \"played_race\"] if \"TEST\" in ds else [\"played_race\"]\n",
    "        _names.extend(range(max_actions - len(_names)))\n",
    "        return pd.read_csv(f, names=_names, dtype= str)"
   ]
  },
  {
   "cell_type": "code",
   "execution_count": 4,
   "metadata": {},
   "outputs": [],
   "source": [
    "train = read_ds_gzip(Path(\"data/TRAIN.CSV.GZ\"), ds=\"TRAIN\") # Replace with correct path "
   ]
  },
  {
   "cell_type": "code",
   "execution_count": 40,
   "metadata": {},
   "outputs": [
    {
     "data": {
      "text/html": [
       "<div>\n",
       "<style scoped>\n",
       "    .dataframe tbody tr th:only-of-type {\n",
       "        vertical-align: middle;\n",
       "    }\n",
       "\n",
       "    .dataframe tbody tr th {\n",
       "        vertical-align: top;\n",
       "    }\n",
       "\n",
       "    .dataframe thead th {\n",
       "        text-align: right;\n",
       "    }\n",
       "</style>\n",
       "<table border=\"1\" class=\"dataframe\">\n",
       "  <thead>\n",
       "    <tr style=\"text-align: right;\">\n",
       "      <th></th>\n",
       "      <th>battlenetcode</th>\n",
       "    </tr>\n",
       "  </thead>\n",
       "  <tbody>\n",
       "    <tr>\n",
       "      <th>count</th>\n",
       "      <td>3052.000000</td>\n",
       "    </tr>\n",
       "    <tr>\n",
       "      <th>mean</th>\n",
       "      <td>92.497051</td>\n",
       "    </tr>\n",
       "    <tr>\n",
       "      <th>std</th>\n",
       "      <td>54.056482</td>\n",
       "    </tr>\n",
       "    <tr>\n",
       "      <th>min</th>\n",
       "      <td>0.000000</td>\n",
       "    </tr>\n",
       "    <tr>\n",
       "      <th>25%</th>\n",
       "      <td>49.000000</td>\n",
       "    </tr>\n",
       "    <tr>\n",
       "      <th>50%</th>\n",
       "      <td>91.500000</td>\n",
       "    </tr>\n",
       "    <tr>\n",
       "      <th>75%</th>\n",
       "      <td>131.000000</td>\n",
       "    </tr>\n",
       "    <tr>\n",
       "      <th>max</th>\n",
       "      <td>199.000000</td>\n",
       "    </tr>\n",
       "  </tbody>\n",
       "</table>\n",
       "</div>"
      ],
      "text/plain": [
       "       battlenetcode\n",
       "count    3052.000000\n",
       "mean       92.497051\n",
       "std        54.056482\n",
       "min         0.000000\n",
       "25%        49.000000\n",
       "50%        91.500000\n",
       "75%       131.000000\n",
       "max       199.000000"
      ]
     },
     "execution_count": 40,
     "metadata": {},
     "output_type": "execute_result"
    }
   ],
   "source": [
    "train.describe()"
   ]
  },
  {
   "cell_type": "code",
   "execution_count": 6,
   "metadata": {},
   "outputs": [],
   "source": [
    "def to_categories(df: pd.DataFrame, col: str=\"battleneturl\") -> None:\n",
    "    \"\"\"Convert col of df to a categorical column\"\"\"\n",
    "    df[\"battleneturl\"] = pd.Categorical(df[\"battleneturl\"])\n",
    "    df[\"battlenetcode\"] = df[[col]].apply(lambda x: x.cat.codes)\n"
   ]
  },
  {
   "cell_type": "code",
   "execution_count": 7,
   "metadata": {},
   "outputs": [
    {
     "data": {
      "text/html": [
       "<div>\n",
       "<style scoped>\n",
       "    .dataframe tbody tr th:only-of-type {\n",
       "        vertical-align: middle;\n",
       "    }\n",
       "\n",
       "    .dataframe tbody tr th {\n",
       "        vertical-align: top;\n",
       "    }\n",
       "\n",
       "    .dataframe thead th {\n",
       "        text-align: right;\n",
       "    }\n",
       "</style>\n",
       "<table border=\"1\" class=\"dataframe\">\n",
       "  <thead>\n",
       "    <tr style=\"text-align: right;\">\n",
       "      <th></th>\n",
       "      <th>battleneturl</th>\n",
       "      <th>played_race</th>\n",
       "      <th>0</th>\n",
       "      <th>1</th>\n",
       "      <th>2</th>\n",
       "      <th>3</th>\n",
       "      <th>4</th>\n",
       "      <th>5</th>\n",
       "      <th>6</th>\n",
       "      <th>7</th>\n",
       "      <th>...</th>\n",
       "      <th>10528</th>\n",
       "      <th>10529</th>\n",
       "      <th>10530</th>\n",
       "      <th>10531</th>\n",
       "      <th>10532</th>\n",
       "      <th>10533</th>\n",
       "      <th>10534</th>\n",
       "      <th>10535</th>\n",
       "      <th>10536</th>\n",
       "      <th>battlenetcode</th>\n",
       "    </tr>\n",
       "  </thead>\n",
       "  <tbody>\n",
       "    <tr>\n",
       "      <th>0</th>\n",
       "      <td>http://eu.battle.net/sc2/en/profile/4234852/1/...</td>\n",
       "      <td>Protoss</td>\n",
       "      <td>Base</td>\n",
       "      <td>s</td>\n",
       "      <td>s</td>\n",
       "      <td>s</td>\n",
       "      <td>s</td>\n",
       "      <td>s</td>\n",
       "      <td>t5</td>\n",
       "      <td>Base</td>\n",
       "      <td>...</td>\n",
       "      <td>NaN</td>\n",
       "      <td>NaN</td>\n",
       "      <td>NaN</td>\n",
       "      <td>NaN</td>\n",
       "      <td>NaN</td>\n",
       "      <td>NaN</td>\n",
       "      <td>NaN</td>\n",
       "      <td>NaN</td>\n",
       "      <td>NaN</td>\n",
       "      <td>53</td>\n",
       "    </tr>\n",
       "    <tr>\n",
       "      <th>1</th>\n",
       "      <td>http://eu.battle.net/sc2/en/profile/3074362/1/...</td>\n",
       "      <td>Protoss</td>\n",
       "      <td>s</td>\n",
       "      <td>Base</td>\n",
       "      <td>s</td>\n",
       "      <td>s</td>\n",
       "      <td>Base</td>\n",
       "      <td>s</td>\n",
       "      <td>s</td>\n",
       "      <td>Base</td>\n",
       "      <td>...</td>\n",
       "      <td>NaN</td>\n",
       "      <td>NaN</td>\n",
       "      <td>NaN</td>\n",
       "      <td>NaN</td>\n",
       "      <td>NaN</td>\n",
       "      <td>NaN</td>\n",
       "      <td>NaN</td>\n",
       "      <td>NaN</td>\n",
       "      <td>NaN</td>\n",
       "      <td>29</td>\n",
       "    </tr>\n",
       "    <tr>\n",
       "      <th>2</th>\n",
       "      <td>http://eu.battle.net/sc2/en/profile/4234852/1/...</td>\n",
       "      <td>Protoss</td>\n",
       "      <td>Base</td>\n",
       "      <td>s</td>\n",
       "      <td>s</td>\n",
       "      <td>s</td>\n",
       "      <td>Base</td>\n",
       "      <td>s</td>\n",
       "      <td>hotkey30</td>\n",
       "      <td>hotkey00</td>\n",
       "      <td>...</td>\n",
       "      <td>NaN</td>\n",
       "      <td>NaN</td>\n",
       "      <td>NaN</td>\n",
       "      <td>NaN</td>\n",
       "      <td>NaN</td>\n",
       "      <td>NaN</td>\n",
       "      <td>NaN</td>\n",
       "      <td>NaN</td>\n",
       "      <td>NaN</td>\n",
       "      <td>53</td>\n",
       "    </tr>\n",
       "    <tr>\n",
       "      <th>3</th>\n",
       "      <td>http://eu.battle.net/sc2/en/profile/3074362/1/...</td>\n",
       "      <td>Protoss</td>\n",
       "      <td>Base</td>\n",
       "      <td>s</td>\n",
       "      <td>s</td>\n",
       "      <td>Base</td>\n",
       "      <td>s</td>\n",
       "      <td>s</td>\n",
       "      <td>s</td>\n",
       "      <td>t5</td>\n",
       "      <td>...</td>\n",
       "      <td>NaN</td>\n",
       "      <td>NaN</td>\n",
       "      <td>NaN</td>\n",
       "      <td>NaN</td>\n",
       "      <td>NaN</td>\n",
       "      <td>NaN</td>\n",
       "      <td>NaN</td>\n",
       "      <td>NaN</td>\n",
       "      <td>NaN</td>\n",
       "      <td>29</td>\n",
       "    </tr>\n",
       "    <tr>\n",
       "      <th>4</th>\n",
       "      <td>http://eu.battle.net/sc2/en/profile/4234852/1/...</td>\n",
       "      <td>Protoss</td>\n",
       "      <td>Base</td>\n",
       "      <td>s</td>\n",
       "      <td>s</td>\n",
       "      <td>s</td>\n",
       "      <td>Base</td>\n",
       "      <td>s</td>\n",
       "      <td>hotkey30</td>\n",
       "      <td>hotkey00</td>\n",
       "      <td>...</td>\n",
       "      <td>NaN</td>\n",
       "      <td>NaN</td>\n",
       "      <td>NaN</td>\n",
       "      <td>NaN</td>\n",
       "      <td>NaN</td>\n",
       "      <td>NaN</td>\n",
       "      <td>NaN</td>\n",
       "      <td>NaN</td>\n",
       "      <td>NaN</td>\n",
       "      <td>53</td>\n",
       "    </tr>\n",
       "  </tbody>\n",
       "</table>\n",
       "<p>5 rows × 10540 columns</p>\n",
       "</div>"
      ],
      "text/plain": [
       "                                        battleneturl played_race     0     1  \\\n",
       "0  http://eu.battle.net/sc2/en/profile/4234852/1/...     Protoss  Base     s   \n",
       "1  http://eu.battle.net/sc2/en/profile/3074362/1/...     Protoss     s  Base   \n",
       "2  http://eu.battle.net/sc2/en/profile/4234852/1/...     Protoss  Base     s   \n",
       "3  http://eu.battle.net/sc2/en/profile/3074362/1/...     Protoss  Base     s   \n",
       "4  http://eu.battle.net/sc2/en/profile/4234852/1/...     Protoss  Base     s   \n",
       "\n",
       "   2     3     4  5         6         7  ... 10528 10529 10530 10531 10532  \\\n",
       "0  s     s     s  s        t5      Base  ...   NaN   NaN   NaN   NaN   NaN   \n",
       "1  s     s  Base  s         s      Base  ...   NaN   NaN   NaN   NaN   NaN   \n",
       "2  s     s  Base  s  hotkey30  hotkey00  ...   NaN   NaN   NaN   NaN   NaN   \n",
       "3  s  Base     s  s         s        t5  ...   NaN   NaN   NaN   NaN   NaN   \n",
       "4  s     s  Base  s  hotkey30  hotkey00  ...   NaN   NaN   NaN   NaN   NaN   \n",
       "\n",
       "  10533 10534 10535 10536 battlenetcode  \n",
       "0   NaN   NaN   NaN   NaN            53  \n",
       "1   NaN   NaN   NaN   NaN            29  \n",
       "2   NaN   NaN   NaN   NaN            53  \n",
       "3   NaN   NaN   NaN   NaN            29  \n",
       "4   NaN   NaN   NaN   NaN            53  \n",
       "\n",
       "[5 rows x 10540 columns]"
      ]
     },
     "execution_count": 7,
     "metadata": {},
     "output_type": "execute_result"
    }
   ],
   "source": [
    "url_dict = to_categories(train)\n",
    "train.head()"
   ]
  },
  {
   "cell_type": "code",
   "execution_count": 8,
   "metadata": {},
   "outputs": [
    {
     "data": {
      "text/plain": [
       "{53: 'http://eu.battle.net/sc2/en/profile/4234852/1/First/',\n",
       " 29: 'http://eu.battle.net/sc2/en/profile/3074362/1/Stardust/',\n",
       " 35: 'http://eu.battle.net/sc2/en/profile/3401218/1/Welmu/',\n",
       " 24: 'http://eu.battle.net/sc2/en/profile/2896854/1/MǂForGG/',\n",
       " 40: 'http://eu.battle.net/sc2/en/profile/3538115/1/Golden/',\n",
       " 17: 'http://eu.battle.net/sc2/en/profile/250458/1/VortiX/',\n",
       " 49: 'http://eu.battle.net/sc2/en/profile/3973341/1/yoeFWSan/',\n",
       " 16: 'http://eu.battle.net/sc2/en/profile/2452136/1/MinChul/',\n",
       " 11: 'http://eu.battle.net/sc2/en/profile/2222468/1/dTefel/',\n",
       " 54: 'http://eu.battle.net/sc2/en/profile/4341883/1/Patience/',\n",
       " 61: 'http://eu.battle.net/sc2/en/profile/950504/1/Grubby/',\n",
       " 25: 'http://eu.battle.net/sc2/en/profile/2898004/1/MMA/',\n",
       " 18: 'http://eu.battle.net/sc2/en/profile/251061/1/LiveZerg/',\n",
       " 0: 'http://eu.battle.net/sc2/en/profile/1021189/1/Dayshi/',\n",
       " 32: 'http://eu.battle.net/sc2/en/profile/326029/1/LiquidTLO/',\n",
       " 2: 'http://eu.battle.net/sc2/en/profile/1058669/1/Happy/',\n",
       " 3: 'http://eu.battle.net/sc2/en/profile/1139573/1/BabyKnight/',\n",
       " 9: 'http://eu.battle.net/sc2/en/profile/2115876/1/FireCake/',\n",
       " 34: 'http://eu.battle.net/sc2/en/profile/3368730/1/ToD/',\n",
       " 4: 'http://eu.battle.net/sc2/en/profile/1143713/1/uThermal/',\n",
       " 30: 'http://eu.battle.net/sc2/en/profile/3090974/1/IMMvp/',\n",
       " 50: 'http://eu.battle.net/sc2/en/profile/4064798/1/yoda/',\n",
       " 13: 'http://eu.battle.net/sc2/en/profile/2383348/1/LiquidBunny/',\n",
       " 52: 'http://eu.battle.net/sc2/en/profile/4149248/1/JJAKJI/',\n",
       " 28: 'http://eu.battle.net/sc2/en/profile/3010872/1/FnticHarstem/',\n",
       " 60: 'http://eu.battle.net/sc2/en/profile/884897/1/LiquidSnute/',\n",
       " 20: 'http://eu.battle.net/sc2/en/profile/2526293/1/Krr/',\n",
       " 31: 'http://eu.battle.net/sc2/en/profile/315813/1/dBlinG/',\n",
       " 44: 'http://eu.battle.net/sc2/en/profile/377576/1/LiquidMaNa/',\n",
       " 8: 'http://eu.battle.net/sc2/en/profile/2101268/1/Stephano/',\n",
       " 23: 'http://eu.battle.net/sc2/en/profile/284466/1/EGDeMusliM/',\n",
       " 59: 'http://eu.battle.net/sc2/en/profile/788178/1/Nerchio/',\n",
       " 10: 'http://eu.battle.net/sc2/en/profile/219517/1/TargA/',\n",
       " 6: 'http://eu.battle.net/sc2/en/profile/1430346/1/ShoWTimE/',\n",
       " 15: 'http://eu.battle.net/sc2/en/profile/239335/1/NightEnD/',\n",
       " 45: 'http://eu.battle.net/sc2/en/profile/377903/1/Starbuck/',\n",
       " 21: 'http://eu.battle.net/sc2/en/profile/2639840/1/Miniraser/',\n",
       " 26: 'http://eu.battle.net/sc2/en/profile/2910724/1/Lilbow/',\n",
       " 58: 'http://eu.battle.net/sc2/en/profile/498165/1/EmpireKas/',\n",
       " 5: 'http://eu.battle.net/sc2/en/profile/1173786/1/VPbenQsLivko/',\n",
       " 38: 'http://eu.battle.net/sc2/en/profile/349650/1/HasuObs/',\n",
       " 7: 'http://eu.battle.net/sc2/en/profile/2048063/1/AcerBly/',\n",
       " 14: 'http://eu.battle.net/sc2/en/profile/2385865/1/elfi/',\n",
       " 37: 'http://eu.battle.net/sc2/en/profile/3437681/1/Lambo/',\n",
       " 48: 'http://eu.battle.net/sc2/en/profile/3971497/1/Genius/',\n",
       " 177: 'http://us.battle.net/sc2/en/profile/4665241/1/Pigbaby/',\n",
       " 157: 'http://us.battle.net/sc2/en/profile/3502513/1/LiquidTaeJa/',\n",
       " 169: 'http://us.battle.net/sc2/en/profile/4417787/1/HyuN/',\n",
       " 151: 'http://us.battle.net/sc2/en/profile/3179642/1/CMStormPolt/',\n",
       " 165: 'http://us.battle.net/sc2/en/profile/4174681/1/AxAlicia/',\n",
       " 163: 'http://us.battle.net/sc2/en/profile/3985949/1/Bomber/',\n",
       " 152: 'http://us.battle.net/sc2/en/profile/3202227/1/viOLet/',\n",
       " 164: 'http://us.battle.net/sc2/en/profile/4167590/1/AxHeart/',\n",
       " 64: 'http://kr.battle.net/sc2/en/profile/1178662/2/llllllllllll/',\n",
       " 150: 'http://us.battle.net/sc2/en/profile/3085708/1/SadArthur/',\n",
       " 188: 'http://us.battle.net/sc2/en/profile/902213/1/Suppy/',\n",
       " 184: 'http://us.battle.net/sc2/en/profile/5393959/1/Sen/',\n",
       " 171: 'http://us.battle.net/sc2/en/profile/4580578/1/ZooCourage/',\n",
       " 162: 'http://us.battle.net/sc2/en/profile/3949344/1/WinDy/',\n",
       " 159: 'http://us.battle.net/sc2/en/profile/3817071/1/iGMacSed/',\n",
       " 186: 'http://us.battle.net/sc2/en/profile/558433/1/Illusion/',\n",
       " 174: 'http://us.battle.net/sc2/en/profile/4589387/1/ToodmingCN/',\n",
       " 161: 'http://us.battle.net/sc2/en/profile/3948354/1/hendralisk/',\n",
       " 132: 'http://kr.battle.net/sc2/en/profile/3488858/1/EGJD/',\n",
       " 63: 'http://kr.battle.net/sc2/en/profile/1126978/2/iGJim/',\n",
       " 172: 'http://us.battle.net/sc2/en/profile/4580957/1/iGJim/',\n",
       " 65: 'http://kr.battle.net/sc2/en/profile/2240191/1/Heart/',\n",
       " 134: 'http://kr.battle.net/sc2/en/profile/4529934/1/SpiderCheck/',\n",
       " 62: 'http://kr.battle.net/sc2/en/profile/1106851/2/IlIlIlllIIll/',\n",
       " 183: 'http://us.battle.net/sc2/en/profile/5376901/1/SpiderCheck/',\n",
       " 141: 'http://us.battle.net/sc2/en/profile/2537456/1/Neeb/',\n",
       " 146: 'http://us.battle.net/sc2/en/profile/2735594/1/coLqxc/',\n",
       " 156: 'http://us.battle.net/sc2/en/profile/3426440/1/llllllllllll/',\n",
       " 143: 'http://us.battle.net/sc2/en/profile/2553612/1/puCK/',\n",
       " 158: 'http://us.battle.net/sc2/en/profile/3650249/1/CranK/',\n",
       " 138: 'http://us.battle.net/sc2/en/profile/2133676/1/aloOla/',\n",
       " 142: 'http://us.battle.net/sc2/en/profile/2541852/1/MaSa/',\n",
       " 182: 'http://us.battle.net/sc2/en/profile/5142993/1/Bomber/',\n",
       " 144: 'http://us.battle.net/sc2/en/profile/2575821/1/HuK/',\n",
       " 153: 'http://us.battle.net/sc2/en/profile/3301677/1/CMRevival/',\n",
       " 135: 'http://us.battle.net/sc2/en/profile/1317068/1/LiquidHerO/',\n",
       " 160: 'http://us.battle.net/sc2/en/profile/3819890/1/shofu/',\n",
       " 176: 'http://us.battle.net/sc2/en/profile/4629528/1/IMNesTea/',\n",
       " 179: 'http://us.battle.net/sc2/en/profile/4819996/1/iGXiGua/',\n",
       " 155: 'http://us.battle.net/sc2/en/profile/3426440/1/PkDOz/',\n",
       " 133: 'http://kr.battle.net/sc2/en/profile/4324250/1/Kane/',\n",
       " 136: 'http://us.battle.net/sc2/en/profile/1640778/1/Guitarcheese/',\n",
       " 166: 'http://us.battle.net/sc2/en/profile/4176016/1/iaguz/',\n",
       " 140: 'http://us.battle.net/sc2/en/profile/2331025/1/Scarlett/',\n",
       " 175: 'http://us.battle.net/sc2/en/profile/4609532/1/aLive/',\n",
       " 148: 'http://us.battle.net/sc2/en/profile/2821952/1/KingkOng/',\n",
       " 180: 'http://us.battle.net/sc2/en/profile/5068246/1/yoeFWSlam/',\n",
       " 170: 'http://us.battle.net/sc2/en/profile/443514/1/desRow/',\n",
       " 86: 'http://kr.battle.net/sc2/en/profile/2342419/1/soO/',\n",
       " 85: 'http://kr.battle.net/sc2/en/profile/2342343/1/Solar/',\n",
       " 100: 'http://kr.battle.net/sc2/en/profile/2343479/1/True/',\n",
       " 66: 'http://kr.battle.net/sc2/en/profile/2332264/1/Zest/',\n",
       " 95: 'http://kr.battle.net/sc2/en/profile/2343012/1/Maru/',\n",
       " 80: 'http://kr.battle.net/sc2/en/profile/2342120/1/Soulkey/',\n",
       " 131: 'http://kr.battle.net/sc2/en/profile/2348639/1/ParalyzE/',\n",
       " 73: 'http://kr.battle.net/sc2/en/profile/2341467/1/Classic/',\n",
       " 120: 'http://kr.battle.net/sc2/en/profile/2344333/1/Leenock/',\n",
       " 70: 'http://kr.battle.net/sc2/en/profile/2334376/1/INnoVation/',\n",
       " 101: 'http://kr.battle.net/sc2/en/profile/2343484/1/herO/',\n",
       " 106: 'http://kr.battle.net/sc2/en/profile/2343733/1/sOs/',\n",
       " 92: 'http://kr.battle.net/sc2/en/profile/2342794/1/Shine/',\n",
       " 117: 'http://kr.battle.net/sc2/en/profile/2344230/1/YongHwa/',\n",
       " 108: 'http://kr.battle.net/sc2/en/profile/2343882/1/SuperNova/',\n",
       " 89: 'http://kr.battle.net/sc2/en/profile/2342766/1/ByuL/',\n",
       " 74: 'http://kr.battle.net/sc2/en/profile/2341492/1/PartinG/',\n",
       " 67: 'http://kr.battle.net/sc2/en/profile/2333068/1/DRG/',\n",
       " 122: 'http://kr.battle.net/sc2/en/profile/2344428/1/MyuNgSiK/',\n",
       " 81: 'http://kr.battle.net/sc2/en/profile/2342147/1/hydra/',\n",
       " 128: 'http://kr.battle.net/sc2/en/profile/2344987/1/Life/',\n",
       " 82: 'http://kr.battle.net/sc2/en/profile/2342269/1/Savage/',\n",
       " 96: 'http://kr.battle.net/sc2/en/profile/2343067/1/Stork/',\n",
       " 99: 'http://kr.battle.net/sc2/en/profile/2343263/1/Ruin/',\n",
       " 116: 'http://kr.battle.net/sc2/en/profile/2344207/1/Symbol/',\n",
       " 105: 'http://kr.battle.net/sc2/en/profile/2343607/1/Rain/',\n",
       " 98: 'http://kr.battle.net/sc2/en/profile/2343240/1/Trap/',\n",
       " 121: 'http://kr.battle.net/sc2/en/profile/2344407/1/Ragnarok/',\n",
       " 123: 'http://kr.battle.net/sc2/en/profile/2344476/1/Dark/',\n",
       " 77: 'http://kr.battle.net/sc2/en/profile/2341700/1/Bbyong/',\n",
       " 68: 'http://kr.battle.net/sc2/en/profile/2333312/1/TAiLS/',\n",
       " 90: 'http://kr.battle.net/sc2/en/profile/2342785/1/FanTaSy/',\n",
       " 78: 'http://kr.battle.net/sc2/en/profile/2341765/1/Billowy/',\n",
       " 71: 'http://kr.battle.net/sc2/en/profile/2340350/1/hitmaN/',\n",
       " 102: 'http://kr.battle.net/sc2/en/profile/2343531/1/Action/',\n",
       " 93: 'http://kr.battle.net/sc2/en/profile/2342923/1/Squirtle/',\n",
       " 111: 'http://kr.battle.net/sc2/en/profile/2343979/1/Pet/',\n",
       " 87: 'http://kr.battle.net/sc2/en/profile/2342491/1/TYTY/',\n",
       " 124: 'http://kr.battle.net/sc2/en/profile/2344602/1/Choya/',\n",
       " 126: 'http://kr.battle.net/sc2/en/profile/2344728/1/Shine/',\n",
       " 107: 'http://kr.battle.net/sc2/en/profile/2343852/1/flash/',\n",
       " 88: 'http://kr.battle.net/sc2/en/profile/2342671/1/Panic/',\n",
       " 119: 'http://kr.battle.net/sc2/en/profile/2344285/1/Stats/',\n",
       " 113: 'http://kr.battle.net/sc2/en/profile/2344079/1/Curious/',\n",
       " 118: 'http://kr.battle.net/sc2/en/profile/2344252/1/Reality/',\n",
       " 109: 'http://kr.battle.net/sc2/en/profile/2343910/1/Journey/',\n",
       " 76: 'http://kr.battle.net/sc2/en/profile/2341575/1/Dear/',\n",
       " 94: 'http://kr.battle.net/sc2/en/profile/2342983/1/Super/',\n",
       " 112: 'http://kr.battle.net/sc2/en/profile/2344031/1/Cure/',\n",
       " 83: 'http://kr.battle.net/sc2/en/profile/2342294/1/Impact/',\n",
       " 72: 'http://kr.battle.net/sc2/en/profile/2341466/1/sora/',\n",
       " 130: 'http://kr.battle.net/sc2/en/profile/2345126/1/RorO/',\n",
       " 1: 'http://eu.battle.net/sc2/en/profile/1058669/1/EmpireHappy/',\n",
       " 19: 'http://eu.battle.net/sc2/en/profile/251061/1/roxkisLZ/',\n",
       " 46: 'http://eu.battle.net/sc2/en/profile/3880481/1/AllianceNani/',\n",
       " 12: 'http://eu.battle.net/sc2/en/profile/2383348/1/Bunny/',\n",
       " 27: 'http://eu.battle.net/sc2/en/profile/2978202/1/LiquidTaeJa/',\n",
       " 43: 'http://eu.battle.net/sc2/en/profile/3746323/1/HyuN/',\n",
       " 42: 'http://eu.battle.net/sc2/en/profile/3611718/1/CMStormPolt/',\n",
       " 33: 'http://eu.battle.net/sc2/en/profile/3311551/1/CMRevival/',\n",
       " 47: 'http://eu.battle.net/sc2/en/profile/3886231/1/OzOz/',\n",
       " 39: 'http://eu.battle.net/sc2/en/profile/3533538/1/Arthur/',\n",
       " 57: 'http://eu.battle.net/sc2/en/profile/4863808/1/Bomber/',\n",
       " 51: 'http://eu.battle.net/sc2/en/profile/4085747/1/Alicia/',\n",
       " 187: 'http://us.battle.net/sc2/en/profile/789884/1/SeleCT/',\n",
       " 149: 'http://us.battle.net/sc2/en/profile/288081/1/Minigun/',\n",
       " 173: 'http://us.battle.net/sc2/en/profile/4585632/1/ZooTop/',\n",
       " 145: 'http://us.battle.net/sc2/en/profile/2575821/1/HuKRC/',\n",
       " 185: 'http://us.battle.net/sc2/en/profile/5495016/1/Has/',\n",
       " 178: 'http://us.battle.net/sc2/en/profile/4669755/1/ByuL/',\n",
       " 154: 'http://us.battle.net/sc2/en/profile/3301677/1/Revival/',\n",
       " 168: 'http://us.battle.net/sc2/en/profile/4408675/1/TheStC/',\n",
       " 181: 'http://us.battle.net/sc2/en/profile/5087767/1/OzOz/',\n",
       " 22: 'http://eu.battle.net/sc2/en/profile/2685580/1/CranK/',\n",
       " 56: 'http://eu.battle.net/sc2/en/profile/4860568/1/iGXiGua/',\n",
       " 55: 'http://eu.battle.net/sc2/en/profile/4854541/1/ZooToodming/',\n",
       " 36: 'http://eu.battle.net/sc2/en/profile/3434150/1/llllllllllll/',\n",
       " 41: 'http://eu.battle.net/sc2/en/profile/3585588/1/llllllllll/',\n",
       " 167: 'http://us.battle.net/sc2/en/profile/4352638/1/Tassadar/',\n",
       " 139: 'http://us.battle.net/sc2/en/profile/2192180/1/PiG/',\n",
       " 137: 'http://us.battle.net/sc2/en/profile/2060165/1/Astrea/',\n",
       " 147: 'http://us.battle.net/sc2/en/profile/2768741/1/CatZ/',\n",
       " 103: 'http://kr.battle.net/sc2/en/profile/2343531/1/DREAM/',\n",
       " 69: 'http://kr.battle.net/sc2/en/profile/2334176/1/GuMiho/',\n",
       " 127: 'http://kr.battle.net/sc2/en/profile/2344780/1/Sleep/',\n",
       " 79: 'http://kr.battle.net/sc2/en/profile/2341920/1/CoCa/',\n",
       " 75: 'http://kr.battle.net/sc2/en/profile/2341545/1/Hack/',\n",
       " 104: 'http://kr.battle.net/sc2/en/profile/2343559/1/Trust/',\n",
       " 114: 'http://kr.battle.net/sc2/en/profile/2344081/1/BravO/',\n",
       " 125: 'http://kr.battle.net/sc2/en/profile/2344728/1/Ryung/',\n",
       " 115: 'http://kr.battle.net/sc2/en/profile/2344151/1/Seed/',\n",
       " 91: 'http://kr.battle.net/sc2/en/profile/2342789/1/sKyHigh/',\n",
       " 129: 'http://kr.battle.net/sc2/en/profile/2345102/1/Hurricane/',\n",
       " 84: 'http://kr.battle.net/sc2/en/profile/2342299/1/KeeN/',\n",
       " 110: 'http://kr.battle.net/sc2/en/profile/2343910/1/effort/',\n",
       " 97: 'http://kr.battle.net/sc2/en/profile/2343183/1/Shine/',\n",
       " 199: 'http://xx.battle.net/sc2/en/profile/415/1/EGJD/',\n",
       " 191: 'http://xx.battle.net/sc2/en/profile/404/1/sOs/',\n",
       " 190: 'http://xx.battle.net/sc2/en/profile/402/1/Dear/',\n",
       " 195: 'http://xx.battle.net/sc2/en/profile/408/1/Polt/',\n",
       " 198: 'http://xx.battle.net/sc2/en/profile/414/1/ducKDeoK/',\n",
       " 197: 'http://xx.battle.net/sc2/en/profile/413/1/Maru/',\n",
       " 193: 'http://xx.battle.net/sc2/en/profile/406/1/INnoVation/',\n",
       " 196: 'http://xx.battle.net/sc2/en/profile/410/1/STBomber/',\n",
       " 194: 'http://xx.battle.net/sc2/en/profile/407/1/NaNiwa/',\n",
       " 189: 'http://xx.battle.net/sc2/en/profile/401/1/Soulkey/',\n",
       " 192: 'http://xx.battle.net/sc2/en/profile/405/1/MMA/'}"
      ]
     },
     "execution_count": 8,
     "metadata": {},
     "output_type": "execute_result"
    }
   ],
   "source": [
    "url_dict = {row['battlenetcode']: row['battleneturl'] for _, row in train.iterrows()}\n",
    "url_dict"
   ]
  },
  {
   "cell_type": "code",
   "execution_count": 57,
   "metadata": {
    "execution": {
     "iopub.execute_input": "2025-01-03T16:55:03.525005Z",
     "iopub.status.busy": "2025-01-03T16:55:03.524636Z",
     "iopub.status.idle": "2025-01-03T16:55:12.650412Z",
     "shell.execute_reply": "2025-01-03T16:55:12.649188Z",
     "shell.execute_reply.started": "2025-01-03T16:55:03.524971Z"
    },
    "trusted": true
   },
   "outputs": [
    {
     "data": {
      "text/plain": [
       "(340, 6818)"
      ]
     },
     "execution_count": 57,
     "metadata": {},
     "output_type": "execute_result"
    }
   ],
   "source": [
    "features_test = read_ds_gzip(Path(\"data/TEST.CSV.GZ\")) # Replace with correct path \n",
    "\n",
    "# features_test = read_ds(\"TEST\")\n",
    "features_test.shape #, features_test.shape"
   ]
  },
  {
   "cell_type": "code",
   "execution_count": 58,
   "metadata": {},
   "outputs": [
    {
     "data": {
      "text/plain": [
       "(340, 6818)"
      ]
     },
     "execution_count": 58,
     "metadata": {},
     "output_type": "execute_result"
    }
   ],
   "source": [
    "features_test.shape"
   ]
  },
  {
   "cell_type": "markdown",
   "metadata": {},
   "source": [
    "### Dependent Variable\n",
    "Our dependent variable is a categorical string; we can convert it to categories codes (number) with pd.Categorical\n",
    "\n",
    "pd.Categorical doesn't directly modify the battleneturl to a number, instead it adds a cat.codes attribute to it. We can create a little function to convert the dependent variable from string to its category ID:"
   ]
  },
  {
   "cell_type": "markdown",
   "metadata": {},
   "source": [
    "#### Removing outliers\n",
    "YOUR IDEAS / APPROACHES HERE.\n",
    "\n"
   ]
  },
  {
   "cell_type": "code",
   "execution_count": 12,
   "metadata": {},
   "outputs": [
    {
     "data": {
      "image/png": "[encoded data removed]",
      "text/plain": [
       "<Figure size 640x480 with 1 Axes>"
      ]
     },
     "metadata": {},
     "output_type": "display_data"
    }
   ],
   "source": [
    "import matplotlib.pyplot as plt\n",
    "\n",
    "nan_counts = features_test.isna().sum()\n",
    "nan_counts.plot()\n",
    "plt.xlabel('Columns')\n",
    "plt.ylabel('Number of NaN values')\n",
    "plt.title('Number of NaN values per column')\n",
    "plt.show()"
   ]
  },
  {
   "cell_type": "code",
   "execution_count": 13,
   "metadata": {},
   "outputs": [
    {
     "data": {
      "image/png": "[encoded data removed]",
      "text/plain": [
       "<Figure size 640x480 with 1 Axes>"
      ]
     },
     "metadata": {},
     "output_type": "display_data"
    }
   ],
   "source": [
    "features_test['played_race'].value_counts().plot(kind='bar')\n",
    "plt.xlabel('Played Race')\n",
    "plt.ylabel('Frequency')\n",
    "plt.title('Histogram of Played Race')\n",
    "plt.show()"
   ]
  },
  {
   "cell_type": "code",
   "execution_count": 14,
   "metadata": {},
   "outputs": [
    {
     "data": {
      "image/png": "[encoded data removed]",
      "text/plain": [
       "<Figure size 800x600 with 1 Axes>"
      ]
     },
     "metadata": {},
     "output_type": "display_data"
    }
   ],
   "source": [
    "\n",
    "durations = []\n",
    "\n",
    "# Iterate over each row in the dataframe\n",
    "for _, row in features_test.iterrows():\n",
    "    # Convert the row to a list (strings, possibly some NaN if missing)\n",
    "    row_list = row.tolist()\n",
    "\n",
    "    # Filter columns that start with \"t\" (e.g., \"t10\", \"t120\", etc.)\n",
    "    time_tokens = [\n",
    "        col for col in row_list if isinstance(col, str) and col.startswith(\"t\")\n",
    "    ]\n",
    "\n",
    "    if time_tokens:\n",
    "        # Get the last time token in the row\n",
    "        last_time_token = time_tokens[-1]\n",
    "        # Convert from e.g. \"t135\" -> integer 135\n",
    "        duration = int(last_time_token[1:])\n",
    "        durations.append(duration)\n",
    "    else:\n",
    "        # If no time tokens, we can append None or skip.\n",
    "        durations.append(None)\n",
    "\n",
    "# Store the durations in the dataframe as a new column for convenience\n",
    "features_test[\"duration\"] = durations\n",
    "\n",
    "# Drop rows without a valid duration\n",
    "features_test.dropna(subset=[\"duration\"], inplace=True)\n",
    "\n",
    "# Plot the distribution as a histogram\n",
    "plt.figure(figsize=(8, 6))\n",
    "features_test[\"duration\"].plot(kind=\"hist\", bins=20, edgecolor=\"black\")\n",
    "plt.title(\"Distribution of Game Durations\")\n",
    "plt.xlabel(\"Game Duration (seconds)\")\n",
    "plt.ylabel(\"Count\")\n",
    "plt.grid(True)\n",
    "plt.show()\n"
   ]
  },
  {
   "cell_type": "code",
   "execution_count": 63,
   "metadata": {},
   "outputs": [],
   "source": [
    "# # Keep the central 96% (remove bottom and top 2%)\n",
    "# q02 = features_test['duration'].quantile(0.02)\n",
    "# q98 = features_test['duration'].quantile(0.98)\n",
    "\n",
    "# features_test_filtered = features_test[(features_test['duration'] >= q02) & (features_test['duration'] <= q98)]\n",
    "    \n",
    "\n",
    "# # Plot the distribution as a histogram\n",
    "# plt.figure(figsize=(8, 6))\n",
    "# features_test_filtered['duration'].plot(kind='hist', bins=20, edgecolor='black')\n",
    "# plt.title('Distribution of Game Durations')\n",
    "# plt.xlabel('Game Duration (seconds)')\n",
    "# plt.ylabel('Count')\n",
    "# plt.grid(True)\n",
    "# plt.show()\n",
    "features_test_filtered = features_test"
   ]
  },
  {
   "cell_type": "code",
   "execution_count": 59,
   "metadata": {},
   "outputs": [
    {
     "name": "stdout",
     "output_type": "stream",
     "text": [
      "Total number of rows (games): 339\n",
      "Number of unique races: 3 \n",
      "\n",
      "=== Race Distribution ===\n",
      " played_race\n",
      "Protoss    131\n",
      "Zerg       126\n",
      "Terran      82\n",
      "Name: count, dtype: int64 \n",
      "\n"
     ]
    }
   ],
   "source": [
    "import pandas as pd\n",
    "\n",
    "# Display global statistics about the dataset\n",
    "print(\"Total number of rows (games):\", len(features_test_filtered))\n",
    "\n",
    "# If you have a unique player identifier (e.g. 'battleneturl')\n",
    "if \"battleneturl\" in features_test_filtered.columns:\n",
    "    print(\"Number of unique players:\", features_test_filtered[\"battleneturl\"].nunique())\n",
    "\n",
    "# If you have a race column (e.g. 'played_race')\n",
    "if \"played_race\" in features_test_filtered.columns:\n",
    "    print(\"Number of unique races:\", features_test_filtered[\"played_race\"].nunique(), \"\\n\")\n",
    "    print(\"=== Race Distribution ===\\n\", features_test_filtered[\"played_race\"].value_counts(), \"\\n\")\n",
    "\n",
    "# Basic statistics for durations\n",
    "if \"duration\" in features_test_filtered.columns:\n",
    "    print(\"=== Duration Summary ===\")\n",
    "    print(features_test_filtered[\"duration\"].agg([\"min\", \"max\", \"mean\", \"std\"]))\n",
    "\n",
    "    # Example: Group by race to see duration stats per race\n",
    "    if \"played_race\" in features_test_filtered.columns:\n",
    "        print(\"\\n=== Duration by Race ===\")\n",
    "        print(features_test_filtered.groupby(\"played_race\")[\"duration\"].agg([\"min\", \"max\", \"mean\", \"std\"]))\n"
   ]
  },
  {
   "cell_type": "code",
   "execution_count": 41,
   "metadata": {},
   "outputs": [],
   "source": [
    "# drop duration column\n",
    "features_test_filtered.drop(columns=['duration'], inplace=True)"
   ]
  },
  {
   "cell_type": "code",
   "execution_count": 64,
   "metadata": {},
   "outputs": [],
   "source": [
    "# Make a deep copy to avoid the SettingWithCopyWarning\n",
    "features_test_filtered = features_test_filtered.copy()\n",
    "\n",
    "# Now safely do your assignments\n",
    "action_cols = features_test_filtered.columns[2:]\n",
    "features_test_filtered[\"actions\"] = (\n",
    "    features_test_filtered[action_cols]\n",
    "    .apply(lambda row: [x for x in row if pd.notna(x)], axis=1)\n",
    ")\n",
    "\n",
    "features_test_filtered.drop(columns=action_cols, inplace=True)"
   ]
  },
  {
   "cell_type": "markdown",
   "metadata": {},
   "source": [
    "### Custom features"
   ]
  },
  {
   "cell_type": "code",
   "execution_count": 65,
   "metadata": {},
   "outputs": [],
   "source": [
    "def chunkify_actions(action_list):\n",
    "    \"\"\"\n",
    "    Given a list of actions (e.g., [\"Base\", \"s\", \"s\", \"t5\", \"hotkey30\", \"t10\", ...]),\n",
    "    produce a list of tuples (start_time, end_time, actions_in_chunk).\n",
    "    If we see 't5', that means the chunk boundary is 5 seconds, etc.\n",
    "    \"\"\"\n",
    "    chunks = []\n",
    "    current_time = 0\n",
    "    chunk_actions = []\n",
    "\n",
    "    def parse_time_marker(a):\n",
    "        # e.g. 't5' -> int(\"5\")\n",
    "        return int(a[1:])\n",
    "\n",
    "    for a in action_list:\n",
    "        if a.startswith(\"t\"):\n",
    "            # We hit a time boundary\n",
    "            end_time = parse_time_marker(a)\n",
    "            if chunk_actions:\n",
    "                chunks.append((current_time, end_time, chunk_actions))\n",
    "            # Move forward\n",
    "            current_time = end_time\n",
    "            chunk_actions = []\n",
    "        else:\n",
    "            # It's a normal action\n",
    "            chunk_actions.append(a)\n",
    "\n",
    "    # If leftover actions exist after the last tXX\n",
    "    # We'll treat them as from current_time to current_time (0-length),\n",
    "    # or you can define a “max game time” if known. For now, let's store them anyway.\n",
    "    if chunk_actions:\n",
    "        chunks.append((current_time, current_time, chunk_actions))\n",
    "\n",
    "    return chunks\n"
   ]
  },
  {
   "cell_type": "code",
   "execution_count": 66,
   "metadata": {},
   "outputs": [],
   "source": [
    "def compute_features_per_chunk(chunks):\n",
    "    \"\"\"\n",
    "    Given a list of (start_t, end_t, actions_in_chunk),\n",
    "    classify them into early/mid/late, count relevant actions,\n",
    "    compute average in each phase.\n",
    "    \"\"\"\n",
    "    # Phase boundaries\n",
    "    EARLY_MAX = 360  # 6 minutes\n",
    "    MID_MAX = 720  # 12 minutes\n",
    "\n",
    "    # We'll accumulate total counts and total durations (in seconds) for each phase\n",
    "    phases = [\"early\", \"mid\", \"late\"]\n",
    "\n",
    "    base_keys = {\n",
    "        \"hk_created\": 0,\n",
    "        \"hk_updated\": 0,\n",
    "        \"hk_used\":    0,\n",
    "        \"base\":       0,\n",
    "        \"mineral\":    0,\n",
    "        \"other\":      0\n",
    "    }\n",
    "\n",
    "    phase_counts = {\n",
    "        ph: {\n",
    "            **{f\"hk_{i}\": 0 for i in range(10)},\n",
    "            **base_keys\n",
    "        }\n",
    "        for ph in phases\n",
    "    }\n",
    "\n",
    "    phase_durations = {ph: 0 for ph in phases}\n",
    "\n",
    "    def get_phase(t):\n",
    "        if t < EARLY_MAX:\n",
    "            return \"early\"\n",
    "        elif t < MID_MAX:\n",
    "            return \"mid\"\n",
    "        else:\n",
    "            return \"late\"\n",
    "\n",
    "    for start_t, end_t, acts in chunks:\n",
    "        # Simple approach: classify chunk by its start time (some people use midpoint)\n",
    "        phase = get_phase(start_t)\n",
    "        # Avoid zero durations => set it to at least 1 second\n",
    "        duration = max(1, end_t - start_t)\n",
    "\n",
    "        # Count actions in this chunk\n",
    "        c_hk_pressed = {f\"c_hk_{i}\": 0 for i in range(10)}\n",
    "        c_hk_created = 0\n",
    "        c_hk_updated = 0\n",
    "        c_hk_used = 0\n",
    "        c_base = 0\n",
    "        c_mineral = 0\n",
    "        c_other = 0\n",
    "\n",
    "        for a in acts:\n",
    "            if a.startswith(\"hotkey\"):\n",
    "                key = int(a[-2])\n",
    "                c_hk_pressed[f\"c_hk_{key}\"] += 1\n",
    "                # check last char if it is \"0\",\"1\",\"2\"\n",
    "                if a.endswith(\"0\"):\n",
    "                    c_hk_created += 1\n",
    "                elif a.endswith(\"1\"):\n",
    "                    c_hk_updated += 1\n",
    "                elif a.endswith(\"2\"):\n",
    "                    c_hk_used += 1\n",
    "            elif a in [\"sBase\", \"Base\"]:\n",
    "                c_base += 1\n",
    "            elif a in [\"sMineral\", \"SingleMineral\"]:\n",
    "                c_mineral += 1\n",
    "            elif a == \"s\":\n",
    "                c_other += 1\n",
    "            else:\n",
    "                # some other action not relevant here\n",
    "                pass\n",
    "\n",
    "        for i in range(10):\n",
    "            phase_counts[phase][f\"hk_{i}\"] += c_hk_pressed[f\"c_hk_{i}\"]\n",
    "        phase_counts[phase][\"hk_created\"] += c_hk_created\n",
    "        phase_counts[phase][\"hk_updated\"] += c_hk_updated\n",
    "        phase_counts[phase][\"hk_used\"] += c_hk_used\n",
    "        phase_counts[phase][\"base\"] += c_base\n",
    "        phase_counts[phase][\"mineral\"] += c_mineral\n",
    "        phase_counts[phase][\"other\"] += c_other\n",
    "\n",
    "        phase_durations[phase] += duration\n",
    "\n",
    "    # Now compute the final average for each phase\n",
    "    # e.g.  (count / total_duration_in_phase)\n",
    "    feats = {}\n",
    "    for phase in [\"early\", \"mid\", \"late\"]:\n",
    "        dur = phase_durations[phase]\n",
    "        pc = phase_counts[phase]\n",
    "        if dur == 0:\n",
    "            # no data for that phase\n",
    "            for i in range(10):\n",
    "                feats[f\"{phase}_hotkey_{i}\"] = 0\n",
    "            feats[f\"{phase}_hotkey_created\"] = 0\n",
    "            feats[f\"{phase}_hotkey_updated\"] = 0\n",
    "            feats[f\"{phase}_hotkey_used\"] = 0\n",
    "            feats[f\"{phase}_base\"] = 0\n",
    "            feats[f\"{phase}_mineral\"] = 0\n",
    "            feats[f\"{phase}_other\"] = 0\n",
    "        else:\n",
    "            for i in range(10):\n",
    "                feats[f\"{phase}_hotkey_{i}\"] = (pc[f\"hk_{i}\"] / dur)\n",
    "            feats[f\"{phase}_hotkey_created\"] = (pc[\"hk_created\"] / dur)\n",
    "            feats[f\"{phase}_hotkey_updated\"] = (pc[\"hk_updated\"] / dur)\n",
    "            feats[f\"{phase}_hotkey_used\"] = (pc[\"hk_used\"] / dur)\n",
    "            feats[f\"{phase}_base\"] = (pc[\"base\"] / dur)\n",
    "            feats[f\"{phase}_mineral\"] = (pc[\"mineral\"] / dur)\n",
    "            feats[f\"{phase}_other\"] = (pc[\"other\"] / dur)\n",
    "\n",
    "    return feats"
   ]
  },
  {
   "cell_type": "code",
   "execution_count": 67,
   "metadata": {},
   "outputs": [
    {
     "name": "stdout",
     "output_type": "stream",
     "text": [
      "   early_hotkey_0  early_hotkey_1  early_hotkey_2  early_hotkey_3  \\\n",
      "0        1.239437        0.267606        0.047887        0.011268   \n",
      "1        0.011429        0.577143        0.188571        0.874286   \n",
      "2        0.000000        0.333333        0.463889        0.358333   \n",
      "3        0.000000        0.331343        0.250746        0.002985   \n",
      "4        0.005714        0.048571        0.074286        0.017143   \n",
      "\n",
      "   early_hotkey_4  early_hotkey_5  early_hotkey_6  early_hotkey_7  \\\n",
      "0        0.000000        0.000000        1.391549        0.019718   \n",
      "1        0.877143        0.000000        0.000000        0.000000   \n",
      "2        0.161111        0.000000        1.419444        0.013889   \n",
      "3        0.447761        0.000000        0.000000        0.000000   \n",
      "4        0.031429        0.211429        0.000000        0.005714   \n",
      "\n",
      "   early_hotkey_8  early_hotkey_9  ...  late_hotkey_6  late_hotkey_7  \\\n",
      "0        0.000000        0.047887  ...       0.858974       0.019231   \n",
      "1        0.000000        0.020000  ...       0.000000       0.000000   \n",
      "2        0.050000        0.000000  ...       0.663265       0.034694   \n",
      "3        0.000000        0.000000  ...       0.005369       0.000000   \n",
      "4        0.014286        0.000000  ...       0.000000       0.000000   \n",
      "\n",
      "   late_hotkey_8  late_hotkey_9  late_hotkey_created  late_hotkey_updated  \\\n",
      "0       0.000000       0.044872             0.044872             0.160256   \n",
      "1       0.000000       0.082707             0.056391             0.000000   \n",
      "2       0.038776       0.000000             0.130612             0.000000   \n",
      "3       0.000000       0.000000             0.081879             0.097987   \n",
      "4       0.000000       0.000000             0.000000             0.000000   \n",
      "\n",
      "   late_hotkey_used  late_base  late_mineral  late_other  \n",
      "0          2.698718   0.000000      0.000000    1.532051  \n",
      "1          1.116541   0.000000      0.000000    0.582707  \n",
      "2          1.953061   0.022449      0.000000    0.465306  \n",
      "3          0.751678   0.002685      0.001342    1.308725  \n",
      "4          0.000000   0.000000      0.000000    0.000000  \n",
      "\n",
      "[5 rows x 48 columns]\n",
      "  played_race     0                                            actions  \\\n",
      "0        Zerg     s  [s, s, hotkey10, s, hotkey60, s, hotkey00, s, ...   \n",
      "1      Terran     s  [hotkey30, hotkey00, t5, s, hotkey32, s, hotke...   \n",
      "2     Protoss  Base  [s, s, Base, s, hotkey20, hotkey30, hotkey60, ...   \n",
      "3        Zerg     s  [s, s, s, hotkey20, s, hotkey40, t5, t10, hotk...   \n",
      "4     Protoss  Base  [s, s, Base, s, hotkey50, hotkey30, t5, hotkey...   \n",
      "\n",
      "   early_hotkey_0  early_hotkey_1  early_hotkey_2  early_hotkey_3  \\\n",
      "0        1.239437        0.267606        0.047887        0.011268   \n",
      "1        0.011429        0.577143        0.188571        0.874286   \n",
      "2        0.000000        0.333333        0.463889        0.358333   \n",
      "3        0.000000        0.331343        0.250746        0.002985   \n",
      "4        0.005714        0.048571        0.074286        0.017143   \n",
      "\n",
      "   early_hotkey_4  early_hotkey_5  early_hotkey_6  ...  late_hotkey_6  \\\n",
      "0        0.000000        0.000000        1.391549  ...       0.858974   \n",
      "1        0.877143        0.000000        0.000000  ...       0.000000   \n",
      "2        0.161111        0.000000        1.419444  ...       0.663265   \n",
      "3        0.447761        0.000000        0.000000  ...       0.005369   \n",
      "4        0.031429        0.211429        0.000000  ...       0.000000   \n",
      "\n",
      "   late_hotkey_7  late_hotkey_8  late_hotkey_9  late_hotkey_created  \\\n",
      "0       0.019231       0.000000       0.044872             0.044872   \n",
      "1       0.000000       0.000000       0.082707             0.056391   \n",
      "2       0.034694       0.038776       0.000000             0.130612   \n",
      "3       0.000000       0.000000       0.000000             0.081879   \n",
      "4       0.000000       0.000000       0.000000             0.000000   \n",
      "\n",
      "   late_hotkey_updated  late_hotkey_used  late_base  late_mineral  late_other  \n",
      "0             0.160256          2.698718   0.000000      0.000000    1.532051  \n",
      "1             0.000000          1.116541   0.000000      0.000000    0.582707  \n",
      "2             0.000000          1.953061   0.022449      0.000000    0.465306  \n",
      "3             0.097987          0.751678   0.002685      0.001342    1.308725  \n",
      "4             0.000000          0.000000   0.000000      0.000000    0.000000  \n",
      "\n",
      "[5 rows x 51 columns]\n"
     ]
    }
   ],
   "source": [
    "def compute_all_features(row):\n",
    "    \"\"\"\n",
    "    row is a single Pandas row with:\n",
    "       row[\"actions\"] = list of action strings\n",
    "       row[\"battleneturl\"], row[\"played_race\"], etc. if needed\n",
    "    Returns a dict of feature_name -> value\n",
    "    \"\"\"\n",
    "    chunks = chunkify_actions(row)\n",
    "    feats = compute_features_per_chunk(chunks)\n",
    "    \n",
    "    # You can also include the player's ID or race in the returned features if desired\n",
    "    return feats\n",
    "\n",
    "# Apply to entire DataFrame\n",
    "features_df = features_test_filtered[\"actions\"].apply(compute_all_features).apply(pd.Series)\n",
    "\n",
    "print(features_df.head())\n",
    "\n",
    "# Combine with the original df if you like\n",
    "result_df = pd.concat([features_test_filtered, features_df], axis=1)\n",
    "print(result_df.head())\n"
   ]
  },
  {
   "cell_type": "code",
   "execution_count": 69,
   "metadata": {},
   "outputs": [],
   "source": [
    "features_df[\"race\"] = features_test_filtered[\"played_race\"]"
   ]
  },
  {
   "cell_type": "code",
   "execution_count": 70,
   "metadata": {},
   "outputs": [
    {
     "name": "stdout",
     "output_type": "stream",
     "text": [
      "   early_hotkey_0  early_hotkey_1  early_hotkey_2  early_hotkey_3  \\\n",
      "0        1.239437        0.267606        0.047887        0.011268   \n",
      "1        0.011429        0.577143        0.188571        0.874286   \n",
      "2        0.000000        0.333333        0.463889        0.358333   \n",
      "3        0.000000        0.331343        0.250746        0.002985   \n",
      "4        0.005714        0.048571        0.074286        0.017143   \n",
      "\n",
      "   early_hotkey_4  early_hotkey_5  early_hotkey_6  early_hotkey_7  \\\n",
      "0        0.000000        0.000000        1.391549        0.019718   \n",
      "1        0.877143        0.000000        0.000000        0.000000   \n",
      "2        0.161111        0.000000        1.419444        0.013889   \n",
      "3        0.447761        0.000000        0.000000        0.000000   \n",
      "4        0.031429        0.211429        0.000000        0.005714   \n",
      "\n",
      "   early_hotkey_8  early_hotkey_9  ...  late_hotkey_7  late_hotkey_8  \\\n",
      "0        0.000000        0.047887  ...       0.019231       0.000000   \n",
      "1        0.000000        0.020000  ...       0.000000       0.000000   \n",
      "2        0.050000        0.000000  ...       0.034694       0.038776   \n",
      "3        0.000000        0.000000  ...       0.000000       0.000000   \n",
      "4        0.014286        0.000000  ...       0.000000       0.000000   \n",
      "\n",
      "   late_hotkey_9  late_hotkey_created  late_hotkey_updated  late_hotkey_used  \\\n",
      "0       0.044872             0.044872             0.160256          2.698718   \n",
      "1       0.082707             0.056391             0.000000          1.116541   \n",
      "2       0.000000             0.130612             0.000000          1.953061   \n",
      "3       0.000000             0.081879             0.097987          0.751678   \n",
      "4       0.000000             0.000000             0.000000          0.000000   \n",
      "\n",
      "   late_base  late_mineral  late_other     race  \n",
      "0   0.000000      0.000000    1.532051     Zerg  \n",
      "1   0.000000      0.000000    0.582707   Terran  \n",
      "2   0.022449      0.000000    0.465306  Protoss  \n",
      "3   0.002685      0.001342    1.308725     Zerg  \n",
      "4   0.000000      0.000000    0.000000  Protoss  \n",
      "\n",
      "[5 rows x 49 columns]\n"
     ]
    }
   ],
   "source": [
    "print(features_df.head())\n",
    "copy_df = features_df.copy()"
   ]
  },
  {
   "cell_type": "markdown",
   "metadata": {},
   "source": [
    "### Getting features...\n",
    "\n",
    "Building a mini framework to read our Dataframe and convert it to features.\n",
    "\n",
    "Now we will create features out of the dataset.\n",
    "\n",
    "FeaturesGetter iterates over an ActionsDataLoader (yield every actions between two 't[xx]') and apply a set of Feature contained in a FeaturePool. At the end, it gets metrics over the values registered by each features in the feature pool."
   ]
  },
  {
   "cell_type": "markdown",
   "metadata": {},
   "source": [
    "Defining lambdas to convert dataset to features\n",
    "We create basic features, corresponding to the mean of each action played per timestamp plus the mean of all actions together"
   ]
  },
  {
   "cell_type": "markdown",
   "metadata": {},
   "source": [
    "Now it's ready to be put into a function that'll get all the features from the initial dataframe and return a new dataframe containing only those features. FeaturesGetter gets one extra feature from that we created, which is max_time, corresponding to the \"xx\" of the last \"txx\" seen."
   ]
  },
  {
   "cell_type": "markdown",
   "metadata": {},
   "source": [
    "### Handling string\n",
    "The race_played column can only take three values; instead of converting it to categorical as we did with our dependent variable, we will instead convert it to dummy variables: we one-hot encode each race. It will not add many columns to our dataframe (only three) but will allow the decision trees to split much faster on the race (on only one binary split)."
   ]
  },
  {
   "cell_type": "code",
   "execution_count": 71,
   "metadata": {
    "execution": {
     "iopub.execute_input": "2025-01-03T16:55:13.845825Z",
     "iopub.status.busy": "2025-01-03T16:55:13.845491Z",
     "iopub.status.idle": "2025-01-03T16:55:13.874662Z",
     "shell.execute_reply": "2025-01-03T16:55:13.873395Z",
     "shell.execute_reply.started": "2025-01-03T16:55:13.845795Z"
    },
    "trusted": true
   },
   "outputs": [],
   "source": [
    "def get_dummies(df: pd.DataFrame):\n",
    "    \"\"\"Converts textual columns to one-hot encoded vectors (one column per possible value)\"\"\"\n",
    "    df = pd.get_dummies(df, columns=[\"race\"])\n",
    "    return df"
   ]
  },
  {
   "cell_type": "markdown",
   "metadata": {},
   "source": [
    "Function preprocess creates a pipeline of all the function we just implemented: it create the features, converts the race to dummy variables and the dependent variable to category codes."
   ]
  },
  {
   "cell_type": "code",
   "execution_count": 72,
   "metadata": {},
   "outputs": [],
   "source": [
    "features_df = get_dummies(features_df)"
   ]
  },
  {
   "cell_type": "code",
   "execution_count": 74,
   "metadata": {},
   "outputs": [
    {
     "name": "stdout",
     "output_type": "stream",
     "text": [
      "<class 'pandas.core.frame.DataFrame'>\n",
      "RangeIndex: 340 entries, 0 to 339\n",
      "Data columns (total 51 columns):\n",
      " #   Column                Non-Null Count  Dtype  \n",
      "---  ------                --------------  -----  \n",
      " 0   early_hotkey_0        340 non-null    float64\n",
      " 1   early_hotkey_1        340 non-null    float64\n",
      " 2   early_hotkey_2        340 non-null    float64\n",
      " 3   early_hotkey_3        340 non-null    float64\n",
      " 4   early_hotkey_4        340 non-null    float64\n",
      " 5   early_hotkey_5        340 non-null    float64\n",
      " 6   early_hotkey_6        340 non-null    float64\n",
      " 7   early_hotkey_7        340 non-null    float64\n",
      " 8   early_hotkey_8        340 non-null    float64\n",
      " 9   early_hotkey_9        340 non-null    float64\n",
      " 10  early_hotkey_created  340 non-null    float64\n",
      " 11  early_hotkey_updated  340 non-null    float64\n",
      " 12  early_hotkey_used     340 non-null    float64\n",
      " 13  early_base            340 non-null    float64\n",
      " 14  early_mineral         340 non-null    float64\n",
      " 15  early_other           340 non-null    float64\n",
      " 16  mid_hotkey_0          340 non-null    float64\n",
      " 17  mid_hotkey_1          340 non-null    float64\n",
      " 18  mid_hotkey_2          340 non-null    float64\n",
      " 19  mid_hotkey_3          340 non-null    float64\n",
      " 20  mid_hotkey_4          340 non-null    float64\n",
      " 21  mid_hotkey_5          340 non-null    float64\n",
      " 22  mid_hotkey_6          340 non-null    float64\n",
      " 23  mid_hotkey_7          340 non-null    float64\n",
      " 24  mid_hotkey_8          340 non-null    float64\n",
      " 25  mid_hotkey_9          340 non-null    float64\n",
      " 26  mid_hotkey_created    340 non-null    float64\n",
      " 27  mid_hotkey_updated    340 non-null    float64\n",
      " 28  mid_hotkey_used       340 non-null    float64\n",
      " 29  mid_base              340 non-null    float64\n",
      " 30  mid_mineral           340 non-null    float64\n",
      " 31  mid_other             340 non-null    float64\n",
      " 32  late_hotkey_0         340 non-null    float64\n",
      " 33  late_hotkey_1         340 non-null    float64\n",
      " 34  late_hotkey_2         340 non-null    float64\n",
      " 35  late_hotkey_3         340 non-null    float64\n",
      " 36  late_hotkey_4         340 non-null    float64\n",
      " 37  late_hotkey_5         340 non-null    float64\n",
      " 38  late_hotkey_6         340 non-null    float64\n",
      " 39  late_hotkey_7         340 non-null    float64\n",
      " 40  late_hotkey_8         340 non-null    float64\n",
      " 41  late_hotkey_9         340 non-null    float64\n",
      " 42  late_hotkey_created   340 non-null    float64\n",
      " 43  late_hotkey_updated   340 non-null    float64\n",
      " 44  late_hotkey_used      340 non-null    float64\n",
      " 45  late_base             340 non-null    float64\n",
      " 46  late_mineral          340 non-null    float64\n",
      " 47  late_other            340 non-null    float64\n",
      " 48  race_Protoss          340 non-null    bool   \n",
      " 49  race_Terran           340 non-null    bool   \n",
      " 50  race_Zerg             340 non-null    bool   \n",
      "dtypes: bool(3), float64(48)\n",
      "memory usage: 128.6 KB\n"
     ]
    }
   ],
   "source": [
    "features_df.info()"
   ]
  },
  {
   "cell_type": "markdown",
   "metadata": {},
   "source": [
    "## ML !!!"
   ]
  },
  {
   "cell_type": "code",
   "execution_count": 75,
   "metadata": {},
   "outputs": [],
   "source": [
    "# Load the random forest model saved with jovlib (sklearn) from disk\n",
    "filename = 'random_forest_model.pkl'\n",
    "loaded_model = pickle.load(open(filename, 'rb'))"
   ]
  },
  {
   "cell_type": "code",
   "execution_count": 76,
   "metadata": {},
   "outputs": [],
   "source": [
    "pred = loaded_model.predict(features_df)"
   ]
  },
  {
   "cell_type": "code",
   "execution_count": 78,
   "metadata": {},
   "outputs": [
    {
     "data": {
      "text/plain": [
       "(340,)"
      ]
     },
     "execution_count": 78,
     "metadata": {},
     "output_type": "execute_result"
    }
   ],
   "source": [
    "pred.shape"
   ]
  },
  {
   "cell_type": "code",
   "execution_count": 79,
   "metadata": {},
   "outputs": [
    {
     "name": "stdout",
     "output_type": "stream",
     "text": [
      "                                              prediction\n",
      "RowId                                                   \n",
      "1      http://eu.battle.net/sc2/en/profile/3538115/1/...\n",
      "2      http://eu.battle.net/sc2/en/profile/2896854/1/...\n",
      "3      http://eu.battle.net/sc2/en/profile/3973341/1/...\n",
      "4      http://eu.battle.net/sc2/en/profile/250458/1/V...\n",
      "5      http://eu.battle.net/sc2/en/profile/950504/1/G...\n"
     ]
    }
   ],
   "source": [
    "# Convert the array of codes to URLs using the url_dict\n",
    "urls = [url_dict[code] for code in pred]\n",
    "\n",
    "# Create a new DataFrame with these URLs\n",
    "urls_df = pd.DataFrame(urls, columns=['prediction'])\n",
    "\n",
    "# Add a 'RowId' column starting at index 1\n",
    "urls_df['RowId'] = range(1, len(urls_df) + 1)\n",
    "\n",
    "# Set 'RowId' as the index\n",
    "urls_df.set_index('RowId', inplace=True)\n",
    "\n",
    "# Display the new DataFrame\n",
    "print(urls_df.head())"
   ]
  },
  {
   "cell_type": "code",
   "execution_count": 80,
   "metadata": {},
   "outputs": [
    {
     "name": "stdout",
     "output_type": "stream",
     "text": [
      "(340,)\n"
     ]
    }
   ],
   "source": [
    "print(pred.shape)"
   ]
  },
  {
   "cell_type": "code",
   "execution_count": 81,
   "metadata": {},
   "outputs": [],
   "source": [
    "# to csv\n",
    "urls_df.to_csv('submission.csv')"
   ]
  }
 ],
 "metadata": {
  "kaggle": {
   "accelerator": "none",
   "dataSources": [
    {
     "datasetId": 6399625,
     "sourceId": 10335289,
     "sourceType": "datasetVersion"
    }
   ],
   "dockerImageVersionId": 30822,
   "isGpuEnabled": false,
   "isInternetEnabled": true,
   "language": "python",
   "sourceType": "notebook"
  },
  "kernelspec": {
   "display_name": "torch_2_5",
   "language": "python",
   "name": "python3"
  },
  "language_info": {
   "codemirror_mode": {
    "name": "ipython",
    "version": 3
   },
   "file_extension": ".py",
   "mimetype": "text/x-python",
   "name": "python",
   "nbconvert_exporter": "python",
   "pygments_lexer": "ipython3",
   "version": "3.12.4"
  }
 },
 "nbformat": 4,
 "nbformat_minor": 4
}
